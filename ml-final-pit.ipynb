{
 "cells": [
  {
   "cell_type": "code",
   "execution_count": 1,
   "id": "eba6d3eb",
   "metadata": {
    "execution": {
     "iopub.execute_input": "2023-06-25T03:37:35.747697Z",
     "iopub.status.busy": "2023-06-25T03:37:35.747159Z",
     "iopub.status.idle": "2023-06-25T03:37:37.976325Z",
     "shell.execute_reply": "2023-06-25T03:37:37.975240Z"
    },
    "papermill": {
     "duration": 2.251232,
     "end_time": "2023-06-25T03:37:37.979169",
     "exception": false,
     "start_time": "2023-06-25T03:37:35.727937",
     "status": "completed"
    },
    "tags": []
   },
   "outputs": [],
   "source": [
    "import numpy as np\n",
    "import pandas as pd\n",
    "import matplotlib.pyplot as plt\n",
    "import seaborn as sns\n",
    "\n",
    "from sklearn import metrics\n",
    "from sklearn.tree import DecisionTreeClassifier\n",
    "from sklearn.linear_model import LogisticRegression\n",
    "from sklearn.model_selection import train_test_split\n",
    "from sklearn.model_selection import cross_val_score\n",
    "from sklearn.metrics import accuracy_score, confusion_matrix\n",
    "from sklearn.ensemble import RandomForestClassifier\n",
    "from sklearn.neighbors import KNeighborsClassifier\n",
    "from sklearn.svm import SVC\n",
    "from sklearn.naive_bayes import GaussianNB"
   ]
  },
  {
   "cell_type": "markdown",
   "id": "7316d4d2",
   "metadata": {
    "papermill": {
     "duration": 0.015714,
     "end_time": "2023-06-25T03:37:38.010704",
     "exception": false,
     "start_time": "2023-06-25T03:37:37.994990",
     "status": "completed"
    },
    "tags": []
   },
   "source": [
    "Loading the data."
   ]
  },
  {
   "cell_type": "code",
   "execution_count": 2,
   "id": "bcfb2d64",
   "metadata": {
    "execution": {
     "iopub.execute_input": "2023-06-25T03:37:38.043443Z",
     "iopub.status.busy": "2023-06-25T03:37:38.043028Z",
     "iopub.status.idle": "2023-06-25T03:37:38.089177Z",
     "shell.execute_reply": "2023-06-25T03:37:38.088082Z"
    },
    "papermill": {
     "duration": 0.065661,
     "end_time": "2023-06-25T03:37:38.091934",
     "exception": false,
     "start_time": "2023-06-25T03:37:38.026273",
     "status": "completed"
    },
    "tags": []
   },
   "outputs": [],
   "source": [
    "df = pd.read_csv('/kaggle/input/fetal-health-classification/fetal_health.csv')"
   ]
  },
  {
   "cell_type": "markdown",
   "id": "57168aac",
   "metadata": {
    "papermill": {
     "duration": 0.015404,
     "end_time": "2023-06-25T03:37:38.123430",
     "exception": false,
     "start_time": "2023-06-25T03:37:38.108026",
     "status": "completed"
    },
    "tags": []
   },
   "source": [
    "Displaying data records."
   ]
  },
  {
   "cell_type": "code",
   "execution_count": 3,
   "id": "8ac77c9e",
   "metadata": {
    "execution": {
     "iopub.execute_input": "2023-06-25T03:37:38.156043Z",
     "iopub.status.busy": "2023-06-25T03:37:38.155663Z",
     "iopub.status.idle": "2023-06-25T03:37:38.222125Z",
     "shell.execute_reply": "2023-06-25T03:37:38.221046Z"
    },
    "papermill": {
     "duration": 0.086646,
     "end_time": "2023-06-25T03:37:38.225560",
     "exception": false,
     "start_time": "2023-06-25T03:37:38.138914",
     "status": "completed"
    },
    "tags": []
   },
   "outputs": [
    {
     "data": {
      "text/html": [
       "<div>\n",
       "<style scoped>\n",
       "    .dataframe tbody tr th:only-of-type {\n",
       "        vertical-align: middle;\n",
       "    }\n",
       "\n",
       "    .dataframe tbody tr th {\n",
       "        vertical-align: top;\n",
       "    }\n",
       "\n",
       "    .dataframe thead th {\n",
       "        text-align: right;\n",
       "    }\n",
       "</style>\n",
       "<table border=\"1\" class=\"dataframe\">\n",
       "  <thead>\n",
       "    <tr style=\"text-align: right;\">\n",
       "      <th></th>\n",
       "      <th>baseline value</th>\n",
       "      <th>accelerations</th>\n",
       "      <th>fetal_movement</th>\n",
       "      <th>uterine_contractions</th>\n",
       "      <th>light_decelerations</th>\n",
       "      <th>severe_decelerations</th>\n",
       "      <th>prolongued_decelerations</th>\n",
       "      <th>abnormal_short_term_variability</th>\n",
       "      <th>mean_value_of_short_term_variability</th>\n",
       "      <th>percentage_of_time_with_abnormal_long_term_variability</th>\n",
       "      <th>...</th>\n",
       "      <th>histogram_min</th>\n",
       "      <th>histogram_max</th>\n",
       "      <th>histogram_number_of_peaks</th>\n",
       "      <th>histogram_number_of_zeroes</th>\n",
       "      <th>histogram_mode</th>\n",
       "      <th>histogram_mean</th>\n",
       "      <th>histogram_median</th>\n",
       "      <th>histogram_variance</th>\n",
       "      <th>histogram_tendency</th>\n",
       "      <th>fetal_health</th>\n",
       "    </tr>\n",
       "  </thead>\n",
       "  <tbody>\n",
       "    <tr>\n",
       "      <th>0</th>\n",
       "      <td>120.0</td>\n",
       "      <td>0.000</td>\n",
       "      <td>0.000</td>\n",
       "      <td>0.000</td>\n",
       "      <td>0.000</td>\n",
       "      <td>0.0</td>\n",
       "      <td>0.0</td>\n",
       "      <td>73.0</td>\n",
       "      <td>0.5</td>\n",
       "      <td>43.0</td>\n",
       "      <td>...</td>\n",
       "      <td>62.0</td>\n",
       "      <td>126.0</td>\n",
       "      <td>2.0</td>\n",
       "      <td>0.0</td>\n",
       "      <td>120.0</td>\n",
       "      <td>137.0</td>\n",
       "      <td>121.0</td>\n",
       "      <td>73.0</td>\n",
       "      <td>1.0</td>\n",
       "      <td>2.0</td>\n",
       "    </tr>\n",
       "    <tr>\n",
       "      <th>1</th>\n",
       "      <td>132.0</td>\n",
       "      <td>0.006</td>\n",
       "      <td>0.000</td>\n",
       "      <td>0.006</td>\n",
       "      <td>0.003</td>\n",
       "      <td>0.0</td>\n",
       "      <td>0.0</td>\n",
       "      <td>17.0</td>\n",
       "      <td>2.1</td>\n",
       "      <td>0.0</td>\n",
       "      <td>...</td>\n",
       "      <td>68.0</td>\n",
       "      <td>198.0</td>\n",
       "      <td>6.0</td>\n",
       "      <td>1.0</td>\n",
       "      <td>141.0</td>\n",
       "      <td>136.0</td>\n",
       "      <td>140.0</td>\n",
       "      <td>12.0</td>\n",
       "      <td>0.0</td>\n",
       "      <td>1.0</td>\n",
       "    </tr>\n",
       "    <tr>\n",
       "      <th>2</th>\n",
       "      <td>133.0</td>\n",
       "      <td>0.003</td>\n",
       "      <td>0.000</td>\n",
       "      <td>0.008</td>\n",
       "      <td>0.003</td>\n",
       "      <td>0.0</td>\n",
       "      <td>0.0</td>\n",
       "      <td>16.0</td>\n",
       "      <td>2.1</td>\n",
       "      <td>0.0</td>\n",
       "      <td>...</td>\n",
       "      <td>68.0</td>\n",
       "      <td>198.0</td>\n",
       "      <td>5.0</td>\n",
       "      <td>1.0</td>\n",
       "      <td>141.0</td>\n",
       "      <td>135.0</td>\n",
       "      <td>138.0</td>\n",
       "      <td>13.0</td>\n",
       "      <td>0.0</td>\n",
       "      <td>1.0</td>\n",
       "    </tr>\n",
       "    <tr>\n",
       "      <th>3</th>\n",
       "      <td>134.0</td>\n",
       "      <td>0.003</td>\n",
       "      <td>0.000</td>\n",
       "      <td>0.008</td>\n",
       "      <td>0.003</td>\n",
       "      <td>0.0</td>\n",
       "      <td>0.0</td>\n",
       "      <td>16.0</td>\n",
       "      <td>2.4</td>\n",
       "      <td>0.0</td>\n",
       "      <td>...</td>\n",
       "      <td>53.0</td>\n",
       "      <td>170.0</td>\n",
       "      <td>11.0</td>\n",
       "      <td>0.0</td>\n",
       "      <td>137.0</td>\n",
       "      <td>134.0</td>\n",
       "      <td>137.0</td>\n",
       "      <td>13.0</td>\n",
       "      <td>1.0</td>\n",
       "      <td>1.0</td>\n",
       "    </tr>\n",
       "    <tr>\n",
       "      <th>4</th>\n",
       "      <td>132.0</td>\n",
       "      <td>0.007</td>\n",
       "      <td>0.000</td>\n",
       "      <td>0.008</td>\n",
       "      <td>0.000</td>\n",
       "      <td>0.0</td>\n",
       "      <td>0.0</td>\n",
       "      <td>16.0</td>\n",
       "      <td>2.4</td>\n",
       "      <td>0.0</td>\n",
       "      <td>...</td>\n",
       "      <td>53.0</td>\n",
       "      <td>170.0</td>\n",
       "      <td>9.0</td>\n",
       "      <td>0.0</td>\n",
       "      <td>137.0</td>\n",
       "      <td>136.0</td>\n",
       "      <td>138.0</td>\n",
       "      <td>11.0</td>\n",
       "      <td>1.0</td>\n",
       "      <td>1.0</td>\n",
       "    </tr>\n",
       "    <tr>\n",
       "      <th>...</th>\n",
       "      <td>...</td>\n",
       "      <td>...</td>\n",
       "      <td>...</td>\n",
       "      <td>...</td>\n",
       "      <td>...</td>\n",
       "      <td>...</td>\n",
       "      <td>...</td>\n",
       "      <td>...</td>\n",
       "      <td>...</td>\n",
       "      <td>...</td>\n",
       "      <td>...</td>\n",
       "      <td>...</td>\n",
       "      <td>...</td>\n",
       "      <td>...</td>\n",
       "      <td>...</td>\n",
       "      <td>...</td>\n",
       "      <td>...</td>\n",
       "      <td>...</td>\n",
       "      <td>...</td>\n",
       "      <td>...</td>\n",
       "      <td>...</td>\n",
       "    </tr>\n",
       "    <tr>\n",
       "      <th>2121</th>\n",
       "      <td>140.0</td>\n",
       "      <td>0.000</td>\n",
       "      <td>0.000</td>\n",
       "      <td>0.007</td>\n",
       "      <td>0.000</td>\n",
       "      <td>0.0</td>\n",
       "      <td>0.0</td>\n",
       "      <td>79.0</td>\n",
       "      <td>0.2</td>\n",
       "      <td>25.0</td>\n",
       "      <td>...</td>\n",
       "      <td>137.0</td>\n",
       "      <td>177.0</td>\n",
       "      <td>4.0</td>\n",
       "      <td>0.0</td>\n",
       "      <td>153.0</td>\n",
       "      <td>150.0</td>\n",
       "      <td>152.0</td>\n",
       "      <td>2.0</td>\n",
       "      <td>0.0</td>\n",
       "      <td>2.0</td>\n",
       "    </tr>\n",
       "    <tr>\n",
       "      <th>2122</th>\n",
       "      <td>140.0</td>\n",
       "      <td>0.001</td>\n",
       "      <td>0.000</td>\n",
       "      <td>0.007</td>\n",
       "      <td>0.000</td>\n",
       "      <td>0.0</td>\n",
       "      <td>0.0</td>\n",
       "      <td>78.0</td>\n",
       "      <td>0.4</td>\n",
       "      <td>22.0</td>\n",
       "      <td>...</td>\n",
       "      <td>103.0</td>\n",
       "      <td>169.0</td>\n",
       "      <td>6.0</td>\n",
       "      <td>0.0</td>\n",
       "      <td>152.0</td>\n",
       "      <td>148.0</td>\n",
       "      <td>151.0</td>\n",
       "      <td>3.0</td>\n",
       "      <td>1.0</td>\n",
       "      <td>2.0</td>\n",
       "    </tr>\n",
       "    <tr>\n",
       "      <th>2123</th>\n",
       "      <td>140.0</td>\n",
       "      <td>0.001</td>\n",
       "      <td>0.000</td>\n",
       "      <td>0.007</td>\n",
       "      <td>0.000</td>\n",
       "      <td>0.0</td>\n",
       "      <td>0.0</td>\n",
       "      <td>79.0</td>\n",
       "      <td>0.4</td>\n",
       "      <td>20.0</td>\n",
       "      <td>...</td>\n",
       "      <td>103.0</td>\n",
       "      <td>170.0</td>\n",
       "      <td>5.0</td>\n",
       "      <td>0.0</td>\n",
       "      <td>153.0</td>\n",
       "      <td>148.0</td>\n",
       "      <td>152.0</td>\n",
       "      <td>4.0</td>\n",
       "      <td>1.0</td>\n",
       "      <td>2.0</td>\n",
       "    </tr>\n",
       "    <tr>\n",
       "      <th>2124</th>\n",
       "      <td>140.0</td>\n",
       "      <td>0.001</td>\n",
       "      <td>0.000</td>\n",
       "      <td>0.006</td>\n",
       "      <td>0.000</td>\n",
       "      <td>0.0</td>\n",
       "      <td>0.0</td>\n",
       "      <td>78.0</td>\n",
       "      <td>0.4</td>\n",
       "      <td>27.0</td>\n",
       "      <td>...</td>\n",
       "      <td>103.0</td>\n",
       "      <td>169.0</td>\n",
       "      <td>6.0</td>\n",
       "      <td>0.0</td>\n",
       "      <td>152.0</td>\n",
       "      <td>147.0</td>\n",
       "      <td>151.0</td>\n",
       "      <td>4.0</td>\n",
       "      <td>1.0</td>\n",
       "      <td>2.0</td>\n",
       "    </tr>\n",
       "    <tr>\n",
       "      <th>2125</th>\n",
       "      <td>142.0</td>\n",
       "      <td>0.002</td>\n",
       "      <td>0.002</td>\n",
       "      <td>0.008</td>\n",
       "      <td>0.000</td>\n",
       "      <td>0.0</td>\n",
       "      <td>0.0</td>\n",
       "      <td>74.0</td>\n",
       "      <td>0.4</td>\n",
       "      <td>36.0</td>\n",
       "      <td>...</td>\n",
       "      <td>117.0</td>\n",
       "      <td>159.0</td>\n",
       "      <td>2.0</td>\n",
       "      <td>1.0</td>\n",
       "      <td>145.0</td>\n",
       "      <td>143.0</td>\n",
       "      <td>145.0</td>\n",
       "      <td>1.0</td>\n",
       "      <td>0.0</td>\n",
       "      <td>1.0</td>\n",
       "    </tr>\n",
       "  </tbody>\n",
       "</table>\n",
       "<p>2126 rows × 22 columns</p>\n",
       "</div>"
      ],
      "text/plain": [
       "      baseline value  accelerations  fetal_movement  uterine_contractions  \\\n",
       "0              120.0          0.000           0.000                 0.000   \n",
       "1              132.0          0.006           0.000                 0.006   \n",
       "2              133.0          0.003           0.000                 0.008   \n",
       "3              134.0          0.003           0.000                 0.008   \n",
       "4              132.0          0.007           0.000                 0.008   \n",
       "...              ...            ...             ...                   ...   \n",
       "2121           140.0          0.000           0.000                 0.007   \n",
       "2122           140.0          0.001           0.000                 0.007   \n",
       "2123           140.0          0.001           0.000                 0.007   \n",
       "2124           140.0          0.001           0.000                 0.006   \n",
       "2125           142.0          0.002           0.002                 0.008   \n",
       "\n",
       "      light_decelerations  severe_decelerations  prolongued_decelerations  \\\n",
       "0                   0.000                   0.0                       0.0   \n",
       "1                   0.003                   0.0                       0.0   \n",
       "2                   0.003                   0.0                       0.0   \n",
       "3                   0.003                   0.0                       0.0   \n",
       "4                   0.000                   0.0                       0.0   \n",
       "...                   ...                   ...                       ...   \n",
       "2121                0.000                   0.0                       0.0   \n",
       "2122                0.000                   0.0                       0.0   \n",
       "2123                0.000                   0.0                       0.0   \n",
       "2124                0.000                   0.0                       0.0   \n",
       "2125                0.000                   0.0                       0.0   \n",
       "\n",
       "      abnormal_short_term_variability  mean_value_of_short_term_variability  \\\n",
       "0                                73.0                                   0.5   \n",
       "1                                17.0                                   2.1   \n",
       "2                                16.0                                   2.1   \n",
       "3                                16.0                                   2.4   \n",
       "4                                16.0                                   2.4   \n",
       "...                               ...                                   ...   \n",
       "2121                             79.0                                   0.2   \n",
       "2122                             78.0                                   0.4   \n",
       "2123                             79.0                                   0.4   \n",
       "2124                             78.0                                   0.4   \n",
       "2125                             74.0                                   0.4   \n",
       "\n",
       "      percentage_of_time_with_abnormal_long_term_variability  ...  \\\n",
       "0                                                  43.0       ...   \n",
       "1                                                   0.0       ...   \n",
       "2                                                   0.0       ...   \n",
       "3                                                   0.0       ...   \n",
       "4                                                   0.0       ...   \n",
       "...                                                 ...       ...   \n",
       "2121                                               25.0       ...   \n",
       "2122                                               22.0       ...   \n",
       "2123                                               20.0       ...   \n",
       "2124                                               27.0       ...   \n",
       "2125                                               36.0       ...   \n",
       "\n",
       "      histogram_min  histogram_max  histogram_number_of_peaks  \\\n",
       "0              62.0          126.0                        2.0   \n",
       "1              68.0          198.0                        6.0   \n",
       "2              68.0          198.0                        5.0   \n",
       "3              53.0          170.0                       11.0   \n",
       "4              53.0          170.0                        9.0   \n",
       "...             ...            ...                        ...   \n",
       "2121          137.0          177.0                        4.0   \n",
       "2122          103.0          169.0                        6.0   \n",
       "2123          103.0          170.0                        5.0   \n",
       "2124          103.0          169.0                        6.0   \n",
       "2125          117.0          159.0                        2.0   \n",
       "\n",
       "      histogram_number_of_zeroes  histogram_mode  histogram_mean  \\\n",
       "0                            0.0           120.0           137.0   \n",
       "1                            1.0           141.0           136.0   \n",
       "2                            1.0           141.0           135.0   \n",
       "3                            0.0           137.0           134.0   \n",
       "4                            0.0           137.0           136.0   \n",
       "...                          ...             ...             ...   \n",
       "2121                         0.0           153.0           150.0   \n",
       "2122                         0.0           152.0           148.0   \n",
       "2123                         0.0           153.0           148.0   \n",
       "2124                         0.0           152.0           147.0   \n",
       "2125                         1.0           145.0           143.0   \n",
       "\n",
       "      histogram_median  histogram_variance  histogram_tendency  fetal_health  \n",
       "0                121.0                73.0                 1.0           2.0  \n",
       "1                140.0                12.0                 0.0           1.0  \n",
       "2                138.0                13.0                 0.0           1.0  \n",
       "3                137.0                13.0                 1.0           1.0  \n",
       "4                138.0                11.0                 1.0           1.0  \n",
       "...                ...                 ...                 ...           ...  \n",
       "2121             152.0                 2.0                 0.0           2.0  \n",
       "2122             151.0                 3.0                 1.0           2.0  \n",
       "2123             152.0                 4.0                 1.0           2.0  \n",
       "2124             151.0                 4.0                 1.0           2.0  \n",
       "2125             145.0                 1.0                 0.0           1.0  \n",
       "\n",
       "[2126 rows x 22 columns]"
      ]
     },
     "execution_count": 3,
     "metadata": {},
     "output_type": "execute_result"
    }
   ],
   "source": [
    "df"
   ]
  },
  {
   "cell_type": "markdown",
   "id": "09065d69",
   "metadata": {
    "papermill": {
     "duration": 0.015923,
     "end_time": "2023-06-25T03:37:38.257771",
     "exception": false,
     "start_time": "2023-06-25T03:37:38.241848",
     "status": "completed"
    },
    "tags": []
   },
   "source": [
    "Displaying count of each instance in dataset."
   ]
  },
  {
   "cell_type": "code",
   "execution_count": 4,
   "id": "6603377e",
   "metadata": {
    "execution": {
     "iopub.execute_input": "2023-06-25T03:37:38.293142Z",
     "iopub.status.busy": "2023-06-25T03:37:38.292182Z",
     "iopub.status.idle": "2023-06-25T03:37:38.305623Z",
     "shell.execute_reply": "2023-06-25T03:37:38.304799Z"
    },
    "papermill": {
     "duration": 0.033709,
     "end_time": "2023-06-25T03:37:38.307986",
     "exception": false,
     "start_time": "2023-06-25T03:37:38.274277",
     "status": "completed"
    },
    "tags": []
   },
   "outputs": [
    {
     "data": {
      "text/plain": [
       "baseline value                                            2126\n",
       "accelerations                                             2126\n",
       "fetal_movement                                            2126\n",
       "uterine_contractions                                      2126\n",
       "light_decelerations                                       2126\n",
       "severe_decelerations                                      2126\n",
       "prolongued_decelerations                                  2126\n",
       "abnormal_short_term_variability                           2126\n",
       "mean_value_of_short_term_variability                      2126\n",
       "percentage_of_time_with_abnormal_long_term_variability    2126\n",
       "mean_value_of_long_term_variability                       2126\n",
       "histogram_width                                           2126\n",
       "histogram_min                                             2126\n",
       "histogram_max                                             2126\n",
       "histogram_number_of_peaks                                 2126\n",
       "histogram_number_of_zeroes                                2126\n",
       "histogram_mode                                            2126\n",
       "histogram_mean                                            2126\n",
       "histogram_median                                          2126\n",
       "histogram_variance                                        2126\n",
       "histogram_tendency                                        2126\n",
       "fetal_health                                              2126\n",
       "dtype: int64"
      ]
     },
     "execution_count": 4,
     "metadata": {},
     "output_type": "execute_result"
    }
   ],
   "source": [
    "df.count()"
   ]
  },
  {
   "cell_type": "markdown",
   "id": "5a5a020f",
   "metadata": {
    "papermill": {
     "duration": 0.016087,
     "end_time": "2023-06-25T03:37:38.340639",
     "exception": false,
     "start_time": "2023-06-25T03:37:38.324552",
     "status": "completed"
    },
    "tags": []
   },
   "source": [
    "Displaying count of null values ( if any ):\n"
   ]
  },
  {
   "cell_type": "code",
   "execution_count": 5,
   "id": "549fdec1",
   "metadata": {
    "execution": {
     "iopub.execute_input": "2023-06-25T03:37:38.376083Z",
     "iopub.status.busy": "2023-06-25T03:37:38.374875Z",
     "iopub.status.idle": "2023-06-25T03:37:38.384481Z",
     "shell.execute_reply": "2023-06-25T03:37:38.383410Z"
    },
    "papermill": {
     "duration": 0.029749,
     "end_time": "2023-06-25T03:37:38.386790",
     "exception": false,
     "start_time": "2023-06-25T03:37:38.357041",
     "status": "completed"
    },
    "tags": []
   },
   "outputs": [
    {
     "data": {
      "text/plain": [
       "baseline value                                            0\n",
       "accelerations                                             0\n",
       "fetal_movement                                            0\n",
       "uterine_contractions                                      0\n",
       "light_decelerations                                       0\n",
       "severe_decelerations                                      0\n",
       "prolongued_decelerations                                  0\n",
       "abnormal_short_term_variability                           0\n",
       "mean_value_of_short_term_variability                      0\n",
       "percentage_of_time_with_abnormal_long_term_variability    0\n",
       "mean_value_of_long_term_variability                       0\n",
       "histogram_width                                           0\n",
       "histogram_min                                             0\n",
       "histogram_max                                             0\n",
       "histogram_number_of_peaks                                 0\n",
       "histogram_number_of_zeroes                                0\n",
       "histogram_mode                                            0\n",
       "histogram_mean                                            0\n",
       "histogram_median                                          0\n",
       "histogram_variance                                        0\n",
       "histogram_tendency                                        0\n",
       "fetal_health                                              0\n",
       "dtype: int64"
      ]
     },
     "execution_count": 5,
     "metadata": {},
     "output_type": "execute_result"
    }
   ],
   "source": [
    "df.isna().sum()"
   ]
  },
  {
   "cell_type": "markdown",
   "id": "4e44ad44",
   "metadata": {
    "papermill": {
     "duration": 0.016682,
     "end_time": "2023-06-25T03:37:38.420187",
     "exception": false,
     "start_time": "2023-06-25T03:37:38.403505",
     "status": "completed"
    },
    "tags": []
   },
   "source": [
    "Displaying summary of dataset."
   ]
  },
  {
   "cell_type": "code",
   "execution_count": 6,
   "id": "7ef08855",
   "metadata": {
    "execution": {
     "iopub.execute_input": "2023-06-25T03:37:38.456022Z",
     "iopub.status.busy": "2023-06-25T03:37:38.455397Z",
     "iopub.status.idle": "2023-06-25T03:37:38.544439Z",
     "shell.execute_reply": "2023-06-25T03:37:38.543196Z"
    },
    "papermill": {
     "duration": 0.10961,
     "end_time": "2023-06-25T03:37:38.546913",
     "exception": false,
     "start_time": "2023-06-25T03:37:38.437303",
     "status": "completed"
    },
    "tags": []
   },
   "outputs": [
    {
     "data": {
      "text/html": [
       "<div>\n",
       "<style scoped>\n",
       "    .dataframe tbody tr th:only-of-type {\n",
       "        vertical-align: middle;\n",
       "    }\n",
       "\n",
       "    .dataframe tbody tr th {\n",
       "        vertical-align: top;\n",
       "    }\n",
       "\n",
       "    .dataframe thead th {\n",
       "        text-align: right;\n",
       "    }\n",
       "</style>\n",
       "<table border=\"1\" class=\"dataframe\">\n",
       "  <thead>\n",
       "    <tr style=\"text-align: right;\">\n",
       "      <th></th>\n",
       "      <th>baseline value</th>\n",
       "      <th>accelerations</th>\n",
       "      <th>fetal_movement</th>\n",
       "      <th>uterine_contractions</th>\n",
       "      <th>light_decelerations</th>\n",
       "      <th>severe_decelerations</th>\n",
       "      <th>prolongued_decelerations</th>\n",
       "      <th>abnormal_short_term_variability</th>\n",
       "      <th>mean_value_of_short_term_variability</th>\n",
       "      <th>percentage_of_time_with_abnormal_long_term_variability</th>\n",
       "      <th>...</th>\n",
       "      <th>histogram_min</th>\n",
       "      <th>histogram_max</th>\n",
       "      <th>histogram_number_of_peaks</th>\n",
       "      <th>histogram_number_of_zeroes</th>\n",
       "      <th>histogram_mode</th>\n",
       "      <th>histogram_mean</th>\n",
       "      <th>histogram_median</th>\n",
       "      <th>histogram_variance</th>\n",
       "      <th>histogram_tendency</th>\n",
       "      <th>fetal_health</th>\n",
       "    </tr>\n",
       "  </thead>\n",
       "  <tbody>\n",
       "    <tr>\n",
       "      <th>count</th>\n",
       "      <td>2126.000000</td>\n",
       "      <td>2126.000000</td>\n",
       "      <td>2126.000000</td>\n",
       "      <td>2126.000000</td>\n",
       "      <td>2126.000000</td>\n",
       "      <td>2126.000000</td>\n",
       "      <td>2126.000000</td>\n",
       "      <td>2126.000000</td>\n",
       "      <td>2126.000000</td>\n",
       "      <td>2126.00000</td>\n",
       "      <td>...</td>\n",
       "      <td>2126.000000</td>\n",
       "      <td>2126.000000</td>\n",
       "      <td>2126.000000</td>\n",
       "      <td>2126.000000</td>\n",
       "      <td>2126.000000</td>\n",
       "      <td>2126.000000</td>\n",
       "      <td>2126.000000</td>\n",
       "      <td>2126.000000</td>\n",
       "      <td>2126.000000</td>\n",
       "      <td>2126.000000</td>\n",
       "    </tr>\n",
       "    <tr>\n",
       "      <th>mean</th>\n",
       "      <td>133.303857</td>\n",
       "      <td>0.003178</td>\n",
       "      <td>0.009481</td>\n",
       "      <td>0.004366</td>\n",
       "      <td>0.001889</td>\n",
       "      <td>0.000003</td>\n",
       "      <td>0.000159</td>\n",
       "      <td>46.990122</td>\n",
       "      <td>1.332785</td>\n",
       "      <td>9.84666</td>\n",
       "      <td>...</td>\n",
       "      <td>93.579492</td>\n",
       "      <td>164.025400</td>\n",
       "      <td>4.068203</td>\n",
       "      <td>0.323612</td>\n",
       "      <td>137.452023</td>\n",
       "      <td>134.610536</td>\n",
       "      <td>138.090310</td>\n",
       "      <td>18.808090</td>\n",
       "      <td>0.320320</td>\n",
       "      <td>1.304327</td>\n",
       "    </tr>\n",
       "    <tr>\n",
       "      <th>std</th>\n",
       "      <td>9.840844</td>\n",
       "      <td>0.003866</td>\n",
       "      <td>0.046666</td>\n",
       "      <td>0.002946</td>\n",
       "      <td>0.002960</td>\n",
       "      <td>0.000057</td>\n",
       "      <td>0.000590</td>\n",
       "      <td>17.192814</td>\n",
       "      <td>0.883241</td>\n",
       "      <td>18.39688</td>\n",
       "      <td>...</td>\n",
       "      <td>29.560212</td>\n",
       "      <td>17.944183</td>\n",
       "      <td>2.949386</td>\n",
       "      <td>0.706059</td>\n",
       "      <td>16.381289</td>\n",
       "      <td>15.593596</td>\n",
       "      <td>14.466589</td>\n",
       "      <td>28.977636</td>\n",
       "      <td>0.610829</td>\n",
       "      <td>0.614377</td>\n",
       "    </tr>\n",
       "    <tr>\n",
       "      <th>min</th>\n",
       "      <td>106.000000</td>\n",
       "      <td>0.000000</td>\n",
       "      <td>0.000000</td>\n",
       "      <td>0.000000</td>\n",
       "      <td>0.000000</td>\n",
       "      <td>0.000000</td>\n",
       "      <td>0.000000</td>\n",
       "      <td>12.000000</td>\n",
       "      <td>0.200000</td>\n",
       "      <td>0.00000</td>\n",
       "      <td>...</td>\n",
       "      <td>50.000000</td>\n",
       "      <td>122.000000</td>\n",
       "      <td>0.000000</td>\n",
       "      <td>0.000000</td>\n",
       "      <td>60.000000</td>\n",
       "      <td>73.000000</td>\n",
       "      <td>77.000000</td>\n",
       "      <td>0.000000</td>\n",
       "      <td>-1.000000</td>\n",
       "      <td>1.000000</td>\n",
       "    </tr>\n",
       "    <tr>\n",
       "      <th>25%</th>\n",
       "      <td>126.000000</td>\n",
       "      <td>0.000000</td>\n",
       "      <td>0.000000</td>\n",
       "      <td>0.002000</td>\n",
       "      <td>0.000000</td>\n",
       "      <td>0.000000</td>\n",
       "      <td>0.000000</td>\n",
       "      <td>32.000000</td>\n",
       "      <td>0.700000</td>\n",
       "      <td>0.00000</td>\n",
       "      <td>...</td>\n",
       "      <td>67.000000</td>\n",
       "      <td>152.000000</td>\n",
       "      <td>2.000000</td>\n",
       "      <td>0.000000</td>\n",
       "      <td>129.000000</td>\n",
       "      <td>125.000000</td>\n",
       "      <td>129.000000</td>\n",
       "      <td>2.000000</td>\n",
       "      <td>0.000000</td>\n",
       "      <td>1.000000</td>\n",
       "    </tr>\n",
       "    <tr>\n",
       "      <th>50%</th>\n",
       "      <td>133.000000</td>\n",
       "      <td>0.002000</td>\n",
       "      <td>0.000000</td>\n",
       "      <td>0.004000</td>\n",
       "      <td>0.000000</td>\n",
       "      <td>0.000000</td>\n",
       "      <td>0.000000</td>\n",
       "      <td>49.000000</td>\n",
       "      <td>1.200000</td>\n",
       "      <td>0.00000</td>\n",
       "      <td>...</td>\n",
       "      <td>93.000000</td>\n",
       "      <td>162.000000</td>\n",
       "      <td>3.000000</td>\n",
       "      <td>0.000000</td>\n",
       "      <td>139.000000</td>\n",
       "      <td>136.000000</td>\n",
       "      <td>139.000000</td>\n",
       "      <td>7.000000</td>\n",
       "      <td>0.000000</td>\n",
       "      <td>1.000000</td>\n",
       "    </tr>\n",
       "    <tr>\n",
       "      <th>75%</th>\n",
       "      <td>140.000000</td>\n",
       "      <td>0.006000</td>\n",
       "      <td>0.003000</td>\n",
       "      <td>0.007000</td>\n",
       "      <td>0.003000</td>\n",
       "      <td>0.000000</td>\n",
       "      <td>0.000000</td>\n",
       "      <td>61.000000</td>\n",
       "      <td>1.700000</td>\n",
       "      <td>11.00000</td>\n",
       "      <td>...</td>\n",
       "      <td>120.000000</td>\n",
       "      <td>174.000000</td>\n",
       "      <td>6.000000</td>\n",
       "      <td>0.000000</td>\n",
       "      <td>148.000000</td>\n",
       "      <td>145.000000</td>\n",
       "      <td>148.000000</td>\n",
       "      <td>24.000000</td>\n",
       "      <td>1.000000</td>\n",
       "      <td>1.000000</td>\n",
       "    </tr>\n",
       "    <tr>\n",
       "      <th>max</th>\n",
       "      <td>160.000000</td>\n",
       "      <td>0.019000</td>\n",
       "      <td>0.481000</td>\n",
       "      <td>0.015000</td>\n",
       "      <td>0.015000</td>\n",
       "      <td>0.001000</td>\n",
       "      <td>0.005000</td>\n",
       "      <td>87.000000</td>\n",
       "      <td>7.000000</td>\n",
       "      <td>91.00000</td>\n",
       "      <td>...</td>\n",
       "      <td>159.000000</td>\n",
       "      <td>238.000000</td>\n",
       "      <td>18.000000</td>\n",
       "      <td>10.000000</td>\n",
       "      <td>187.000000</td>\n",
       "      <td>182.000000</td>\n",
       "      <td>186.000000</td>\n",
       "      <td>269.000000</td>\n",
       "      <td>1.000000</td>\n",
       "      <td>3.000000</td>\n",
       "    </tr>\n",
       "  </tbody>\n",
       "</table>\n",
       "<p>8 rows × 22 columns</p>\n",
       "</div>"
      ],
      "text/plain": [
       "       baseline value  accelerations  fetal_movement  uterine_contractions  \\\n",
       "count     2126.000000    2126.000000     2126.000000           2126.000000   \n",
       "mean       133.303857       0.003178        0.009481              0.004366   \n",
       "std          9.840844       0.003866        0.046666              0.002946   \n",
       "min        106.000000       0.000000        0.000000              0.000000   \n",
       "25%        126.000000       0.000000        0.000000              0.002000   \n",
       "50%        133.000000       0.002000        0.000000              0.004000   \n",
       "75%        140.000000       0.006000        0.003000              0.007000   \n",
       "max        160.000000       0.019000        0.481000              0.015000   \n",
       "\n",
       "       light_decelerations  severe_decelerations  prolongued_decelerations  \\\n",
       "count          2126.000000           2126.000000               2126.000000   \n",
       "mean              0.001889              0.000003                  0.000159   \n",
       "std               0.002960              0.000057                  0.000590   \n",
       "min               0.000000              0.000000                  0.000000   \n",
       "25%               0.000000              0.000000                  0.000000   \n",
       "50%               0.000000              0.000000                  0.000000   \n",
       "75%               0.003000              0.000000                  0.000000   \n",
       "max               0.015000              0.001000                  0.005000   \n",
       "\n",
       "       abnormal_short_term_variability  mean_value_of_short_term_variability  \\\n",
       "count                      2126.000000                           2126.000000   \n",
       "mean                         46.990122                              1.332785   \n",
       "std                          17.192814                              0.883241   \n",
       "min                          12.000000                              0.200000   \n",
       "25%                          32.000000                              0.700000   \n",
       "50%                          49.000000                              1.200000   \n",
       "75%                          61.000000                              1.700000   \n",
       "max                          87.000000                              7.000000   \n",
       "\n",
       "       percentage_of_time_with_abnormal_long_term_variability  ...  \\\n",
       "count                                         2126.00000       ...   \n",
       "mean                                             9.84666       ...   \n",
       "std                                             18.39688       ...   \n",
       "min                                              0.00000       ...   \n",
       "25%                                              0.00000       ...   \n",
       "50%                                              0.00000       ...   \n",
       "75%                                             11.00000       ...   \n",
       "max                                             91.00000       ...   \n",
       "\n",
       "       histogram_min  histogram_max  histogram_number_of_peaks  \\\n",
       "count    2126.000000    2126.000000                2126.000000   \n",
       "mean       93.579492     164.025400                   4.068203   \n",
       "std        29.560212      17.944183                   2.949386   \n",
       "min        50.000000     122.000000                   0.000000   \n",
       "25%        67.000000     152.000000                   2.000000   \n",
       "50%        93.000000     162.000000                   3.000000   \n",
       "75%       120.000000     174.000000                   6.000000   \n",
       "max       159.000000     238.000000                  18.000000   \n",
       "\n",
       "       histogram_number_of_zeroes  histogram_mode  histogram_mean  \\\n",
       "count                 2126.000000     2126.000000     2126.000000   \n",
       "mean                     0.323612      137.452023      134.610536   \n",
       "std                      0.706059       16.381289       15.593596   \n",
       "min                      0.000000       60.000000       73.000000   \n",
       "25%                      0.000000      129.000000      125.000000   \n",
       "50%                      0.000000      139.000000      136.000000   \n",
       "75%                      0.000000      148.000000      145.000000   \n",
       "max                     10.000000      187.000000      182.000000   \n",
       "\n",
       "       histogram_median  histogram_variance  histogram_tendency  fetal_health  \n",
       "count       2126.000000         2126.000000         2126.000000   2126.000000  \n",
       "mean         138.090310           18.808090            0.320320      1.304327  \n",
       "std           14.466589           28.977636            0.610829      0.614377  \n",
       "min           77.000000            0.000000           -1.000000      1.000000  \n",
       "25%          129.000000            2.000000            0.000000      1.000000  \n",
       "50%          139.000000            7.000000            0.000000      1.000000  \n",
       "75%          148.000000           24.000000            1.000000      1.000000  \n",
       "max          186.000000          269.000000            1.000000      3.000000  \n",
       "\n",
       "[8 rows x 22 columns]"
      ]
     },
     "execution_count": 6,
     "metadata": {},
     "output_type": "execute_result"
    }
   ],
   "source": [
    "df.describe()"
   ]
  },
  {
   "cell_type": "markdown",
   "id": "ca95aa92",
   "metadata": {
    "papermill": {
     "duration": 0.016847,
     "end_time": "2023-06-25T03:37:38.580940",
     "exception": false,
     "start_time": "2023-06-25T03:37:38.564093",
     "status": "completed"
    },
    "tags": []
   },
   "source": [
    "Assigning x and y, x as the independent variable and y as the dependent variable.\n"
   ]
  },
  {
   "cell_type": "code",
   "execution_count": 7,
   "id": "daa78921",
   "metadata": {
    "execution": {
     "iopub.execute_input": "2023-06-25T03:37:38.617075Z",
     "iopub.status.busy": "2023-06-25T03:37:38.616704Z",
     "iopub.status.idle": "2023-06-25T03:37:38.626324Z",
     "shell.execute_reply": "2023-06-25T03:37:38.625046Z"
    },
    "papermill": {
     "duration": 0.030572,
     "end_time": "2023-06-25T03:37:38.628677",
     "exception": false,
     "start_time": "2023-06-25T03:37:38.598105",
     "status": "completed"
    },
    "tags": []
   },
   "outputs": [],
   "source": [
    "x = df.drop(['fetal_health'], axis = 1)\n",
    "y = df [['fetal_health']]"
   ]
  },
  {
   "cell_type": "markdown",
   "id": "4633796b",
   "metadata": {
    "papermill": {
     "duration": 0.016886,
     "end_time": "2023-06-25T03:37:38.663515",
     "exception": false,
     "start_time": "2023-06-25T03:37:38.646629",
     "status": "completed"
    },
    "tags": []
   },
   "source": [
    "Splitting the dataset into training and testing state. "
   ]
  },
  {
   "cell_type": "code",
   "execution_count": 8,
   "id": "e7c237d3",
   "metadata": {
    "execution": {
     "iopub.execute_input": "2023-06-25T03:37:38.699919Z",
     "iopub.status.busy": "2023-06-25T03:37:38.699532Z",
     "iopub.status.idle": "2023-06-25T03:37:38.707080Z",
     "shell.execute_reply": "2023-06-25T03:37:38.706135Z"
    },
    "papermill": {
     "duration": 0.028491,
     "end_time": "2023-06-25T03:37:38.709148",
     "exception": false,
     "start_time": "2023-06-25T03:37:38.680657",
     "status": "completed"
    },
    "tags": []
   },
   "outputs": [],
   "source": [
    "trainX, testX, trainY, testY = train_test_split(x, y, test_size=0.2)"
   ]
  },
  {
   "cell_type": "markdown",
   "id": "c4f6916a",
   "metadata": {
    "papermill": {
     "duration": 0.017047,
     "end_time": "2023-06-25T03:37:38.743896",
     "exception": false,
     "start_time": "2023-06-25T03:37:38.726849",
     "status": "completed"
    },
    "tags": []
   },
   "source": [
    "**Decision Tree**\n",
    "\n",
    "Making the model."
   ]
  },
  {
   "cell_type": "code",
   "execution_count": 9,
   "id": "e44ab328",
   "metadata": {
    "execution": {
     "iopub.execute_input": "2023-06-25T03:37:38.780338Z",
     "iopub.status.busy": "2023-06-25T03:37:38.779475Z",
     "iopub.status.idle": "2023-06-25T03:37:38.811969Z",
     "shell.execute_reply": "2023-06-25T03:37:38.810908Z"
    },
    "papermill": {
     "duration": 0.053641,
     "end_time": "2023-06-25T03:37:38.814556",
     "exception": false,
     "start_time": "2023-06-25T03:37:38.760915",
     "status": "completed"
    },
    "tags": []
   },
   "outputs": [
    {
     "data": {
      "text/html": [
       "<style>#sk-container-id-1 {color: black;background-color: white;}#sk-container-id-1 pre{padding: 0;}#sk-container-id-1 div.sk-toggleable {background-color: white;}#sk-container-id-1 label.sk-toggleable__label {cursor: pointer;display: block;width: 100%;margin-bottom: 0;padding: 0.3em;box-sizing: border-box;text-align: center;}#sk-container-id-1 label.sk-toggleable__label-arrow:before {content: \"▸\";float: left;margin-right: 0.25em;color: #696969;}#sk-container-id-1 label.sk-toggleable__label-arrow:hover:before {color: black;}#sk-container-id-1 div.sk-estimator:hover label.sk-toggleable__label-arrow:before {color: black;}#sk-container-id-1 div.sk-toggleable__content {max-height: 0;max-width: 0;overflow: hidden;text-align: left;background-color: #f0f8ff;}#sk-container-id-1 div.sk-toggleable__content pre {margin: 0.2em;color: black;border-radius: 0.25em;background-color: #f0f8ff;}#sk-container-id-1 input.sk-toggleable__control:checked~div.sk-toggleable__content {max-height: 200px;max-width: 100%;overflow: auto;}#sk-container-id-1 input.sk-toggleable__control:checked~label.sk-toggleable__label-arrow:before {content: \"▾\";}#sk-container-id-1 div.sk-estimator input.sk-toggleable__control:checked~label.sk-toggleable__label {background-color: #d4ebff;}#sk-container-id-1 div.sk-label input.sk-toggleable__control:checked~label.sk-toggleable__label {background-color: #d4ebff;}#sk-container-id-1 input.sk-hidden--visually {border: 0;clip: rect(1px 1px 1px 1px);clip: rect(1px, 1px, 1px, 1px);height: 1px;margin: -1px;overflow: hidden;padding: 0;position: absolute;width: 1px;}#sk-container-id-1 div.sk-estimator {font-family: monospace;background-color: #f0f8ff;border: 1px dotted black;border-radius: 0.25em;box-sizing: border-box;margin-bottom: 0.5em;}#sk-container-id-1 div.sk-estimator:hover {background-color: #d4ebff;}#sk-container-id-1 div.sk-parallel-item::after {content: \"\";width: 100%;border-bottom: 1px solid gray;flex-grow: 1;}#sk-container-id-1 div.sk-label:hover label.sk-toggleable__label {background-color: #d4ebff;}#sk-container-id-1 div.sk-serial::before {content: \"\";position: absolute;border-left: 1px solid gray;box-sizing: border-box;top: 0;bottom: 0;left: 50%;z-index: 0;}#sk-container-id-1 div.sk-serial {display: flex;flex-direction: column;align-items: center;background-color: white;padding-right: 0.2em;padding-left: 0.2em;position: relative;}#sk-container-id-1 div.sk-item {position: relative;z-index: 1;}#sk-container-id-1 div.sk-parallel {display: flex;align-items: stretch;justify-content: center;background-color: white;position: relative;}#sk-container-id-1 div.sk-item::before, #sk-container-id-1 div.sk-parallel-item::before {content: \"\";position: absolute;border-left: 1px solid gray;box-sizing: border-box;top: 0;bottom: 0;left: 50%;z-index: -1;}#sk-container-id-1 div.sk-parallel-item {display: flex;flex-direction: column;z-index: 1;position: relative;background-color: white;}#sk-container-id-1 div.sk-parallel-item:first-child::after {align-self: flex-end;width: 50%;}#sk-container-id-1 div.sk-parallel-item:last-child::after {align-self: flex-start;width: 50%;}#sk-container-id-1 div.sk-parallel-item:only-child::after {width: 0;}#sk-container-id-1 div.sk-dashed-wrapped {border: 1px dashed gray;margin: 0 0.4em 0.5em 0.4em;box-sizing: border-box;padding-bottom: 0.4em;background-color: white;}#sk-container-id-1 div.sk-label label {font-family: monospace;font-weight: bold;display: inline-block;line-height: 1.2em;}#sk-container-id-1 div.sk-label-container {text-align: center;}#sk-container-id-1 div.sk-container {/* jupyter's `normalize.less` sets `[hidden] { display: none; }` but bootstrap.min.css set `[hidden] { display: none !important; }` so we also need the `!important` here to be able to override the default hidden behavior on the sphinx rendered scikit-learn.org. See: https://github.com/scikit-learn/scikit-learn/issues/21755 */display: inline-block !important;position: relative;}#sk-container-id-1 div.sk-text-repr-fallback {display: none;}</style><div id=\"sk-container-id-1\" class=\"sk-top-container\"><div class=\"sk-text-repr-fallback\"><pre>DecisionTreeClassifier()</pre><b>In a Jupyter environment, please rerun this cell to show the HTML representation or trust the notebook. <br />On GitHub, the HTML representation is unable to render, please try loading this page with nbviewer.org.</b></div><div class=\"sk-container\" hidden><div class=\"sk-item\"><div class=\"sk-estimator sk-toggleable\"><input class=\"sk-toggleable__control sk-hidden--visually\" id=\"sk-estimator-id-1\" type=\"checkbox\" checked><label for=\"sk-estimator-id-1\" class=\"sk-toggleable__label sk-toggleable__label-arrow\">DecisionTreeClassifier</label><div class=\"sk-toggleable__content\"><pre>DecisionTreeClassifier()</pre></div></div></div></div></div>"
      ],
      "text/plain": [
       "DecisionTreeClassifier()"
      ]
     },
     "execution_count": 9,
     "metadata": {},
     "output_type": "execute_result"
    }
   ],
   "source": [
    "dtc = DecisionTreeClassifier()\n",
    "dtc.fit (trainX, trainY)"
   ]
  },
  {
   "cell_type": "markdown",
   "id": "bbb30c14",
   "metadata": {
    "papermill": {
     "duration": 0.01704,
     "end_time": "2023-06-25T03:37:38.849126",
     "exception": false,
     "start_time": "2023-06-25T03:37:38.832086",
     "status": "completed"
    },
    "tags": []
   },
   "source": [
    "Making the confusion matrix."
   ]
  },
  {
   "cell_type": "code",
   "execution_count": 10,
   "id": "8dea9c13",
   "metadata": {
    "execution": {
     "iopub.execute_input": "2023-06-25T03:37:38.885662Z",
     "iopub.status.busy": "2023-06-25T03:37:38.885278Z",
     "iopub.status.idle": "2023-06-25T03:37:38.891997Z",
     "shell.execute_reply": "2023-06-25T03:37:38.890993Z"
    },
    "papermill": {
     "duration": 0.027812,
     "end_time": "2023-06-25T03:37:38.894319",
     "exception": false,
     "start_time": "2023-06-25T03:37:38.866507",
     "status": "completed"
    },
    "tags": []
   },
   "outputs": [],
   "source": [
    "y_predicted = dtc.predict(testX)"
   ]
  },
  {
   "cell_type": "code",
   "execution_count": 11,
   "id": "5d20ccd0",
   "metadata": {
    "execution": {
     "iopub.execute_input": "2023-06-25T03:37:38.931365Z",
     "iopub.status.busy": "2023-06-25T03:37:38.930938Z",
     "iopub.status.idle": "2023-06-25T03:37:38.943364Z",
     "shell.execute_reply": "2023-06-25T03:37:38.942255Z"
    },
    "papermill": {
     "duration": 0.033979,
     "end_time": "2023-06-25T03:37:38.945822",
     "exception": false,
     "start_time": "2023-06-25T03:37:38.911843",
     "status": "completed"
    },
    "tags": []
   },
   "outputs": [
    {
     "data": {
      "text/plain": [
       "array([[329,   4,   4],\n",
       "       [ 14,  50,   0],\n",
       "       [  1,   1,  23]])"
      ]
     },
     "execution_count": 11,
     "metadata": {},
     "output_type": "execute_result"
    }
   ],
   "source": [
    "confusion_matrix(testY,y_predicted)"
   ]
  },
  {
   "cell_type": "markdown",
   "id": "6bf23026",
   "metadata": {
    "papermill": {
     "duration": 0.017373,
     "end_time": "2023-06-25T03:37:38.981485",
     "exception": false,
     "start_time": "2023-06-25T03:37:38.964112",
     "status": "completed"
    },
    "tags": []
   },
   "source": [
    "Calculating precision, recall, specificity, and f1-score."
   ]
  },
  {
   "cell_type": "code",
   "execution_count": 12,
   "id": "a52f56be",
   "metadata": {
    "execution": {
     "iopub.execute_input": "2023-06-25T03:37:39.020018Z",
     "iopub.status.busy": "2023-06-25T03:37:39.019530Z",
     "iopub.status.idle": "2023-06-25T03:37:39.029504Z",
     "shell.execute_reply": "2023-06-25T03:37:39.028440Z"
    },
    "papermill": {
     "duration": 0.032327,
     "end_time": "2023-06-25T03:37:39.031802",
     "exception": false,
     "start_time": "2023-06-25T03:37:38.999475",
     "status": "completed"
    },
    "tags": []
   },
   "outputs": [
    {
     "data": {
      "text/plain": [
       "(0.931924882629108, 0.931924882629108, 0.9647630619684082, 0.931924882629108)"
      ]
     },
     "execution_count": 12,
     "metadata": {},
     "output_type": "execute_result"
    }
   ],
   "source": [
    "dt_tp = 313 + 47 + 37\n",
    "dt_fp = 7 + 1 + 17 + 3 + 0 + 1\n",
    "dt_fn = 17 + 0 + 7 + 1 + 1 + 3\n",
    "dt_tn = 47 + 37 + 313 + 37 + 313 + 47\n",
    "\n",
    "dt_precision = dt_tp/(dt_tp+dt_fp)\n",
    "dt_recall = dt_tp/(dt_tp+dt_fn)\n",
    "dt_specificity = dt_tn/(dt_fp+dt_tn)\n",
    "dt_f1= 2* (dt_precision*dt_recall)/(dt_precision+dt_recall)\n",
    "dt_precision, dt_recall, dt_specificity, dt_f1"
   ]
  },
  {
   "cell_type": "markdown",
   "id": "132c83c4",
   "metadata": {
    "papermill": {
     "duration": 0.017359,
     "end_time": "2023-06-25T03:37:39.067003",
     "exception": false,
     "start_time": "2023-06-25T03:37:39.049644",
     "status": "completed"
    },
    "tags": []
   },
   "source": [
    "#Plot the performance scores"
   ]
  },
  {
   "cell_type": "code",
   "execution_count": 13,
   "id": "2c1acdd1",
   "metadata": {
    "execution": {
     "iopub.execute_input": "2023-06-25T03:37:39.104534Z",
     "iopub.status.busy": "2023-06-25T03:37:39.103557Z",
     "iopub.status.idle": "2023-06-25T03:37:39.386538Z",
     "shell.execute_reply": "2023-06-25T03:37:39.385761Z"
    },
    "papermill": {
     "duration": 0.304707,
     "end_time": "2023-06-25T03:37:39.389352",
     "exception": false,
     "start_time": "2023-06-25T03:37:39.084645",
     "status": "completed"
    },
    "tags": []
   },
   "outputs": [
    {
     "data": {
      "image/png": "[encoded data removed]",
      "text/plain": [
       "<Figure size 640x480 with 1 Axes>"
      ]
     },
     "metadata": {},
     "output_type": "display_data"
    },
    {
     "name": "stdout",
     "output_type": "stream",
     "text": [
      "dt_Precision: 93.1924882629108%\n",
      "dt_Recall: 93.1924882629108%\n",
      "dt_Specificity: 96.47630619684082%\n",
      "dt_F1-score: 93.1924882629108%\n"
     ]
    }
   ],
   "source": [
    "scores_label = [ 'dt_Precision', 'dt_Recall', 'dt_Specificity', 'dt_F1-score']\n",
    "scores_values = [dt_precision, dt_recall, dt_specificity , dt_f1]\n",
    "\n",
    "plt.bar(scores_label, scores_values)\n",
    "plt.ylim([0, 1])\n",
    "plt.ylabel('Score')\n",
    "plt.title('DT Performance Metrics')\n",
    "\n",
    "# Show the plot\n",
    "plt.show()\n",
    "i=0\n",
    "for x in scores_label:\n",
    "    print(f'{x}: {scores_values[i] *100}%')\n",
    "    i+=1"
   ]
  },
  {
   "cell_type": "markdown",
   "id": "776a75c1",
   "metadata": {
    "papermill": {
     "duration": 0.019068,
     "end_time": "2023-06-25T03:37:39.426875",
     "exception": false,
     "start_time": "2023-06-25T03:37:39.407807",
     "status": "completed"
    },
    "tags": []
   },
   "source": [
    "**Logistic Regression**\n",
    "\n",
    "Making the model."
   ]
  },
  {
   "cell_type": "code",
   "execution_count": 14,
   "id": "4d63eb0d",
   "metadata": {
    "execution": {
     "iopub.execute_input": "2023-06-25T03:37:39.466655Z",
     "iopub.status.busy": "2023-06-25T03:37:39.465896Z",
     "iopub.status.idle": "2023-06-25T03:37:39.993595Z",
     "shell.execute_reply": "2023-06-25T03:37:39.991893Z"
    },
    "papermill": {
     "duration": 0.5507,
     "end_time": "2023-06-25T03:37:39.996623",
     "exception": false,
     "start_time": "2023-06-25T03:37:39.445923",
     "status": "completed"
    },
    "tags": []
   },
   "outputs": [
    {
     "data": {
      "text/html": [
       "<style>#sk-container-id-2 {color: black;background-color: white;}#sk-container-id-2 pre{padding: 0;}#sk-container-id-2 div.sk-toggleable {background-color: white;}#sk-container-id-2 label.sk-toggleable__label {cursor: pointer;display: block;width: 100%;margin-bottom: 0;padding: 0.3em;box-sizing: border-box;text-align: center;}#sk-container-id-2 label.sk-toggleable__label-arrow:before {content: \"▸\";float: left;margin-right: 0.25em;color: #696969;}#sk-container-id-2 label.sk-toggleable__label-arrow:hover:before {color: black;}#sk-container-id-2 div.sk-estimator:hover label.sk-toggleable__label-arrow:before {color: black;}#sk-container-id-2 div.sk-toggleable__content {max-height: 0;max-width: 0;overflow: hidden;text-align: left;background-color: #f0f8ff;}#sk-container-id-2 div.sk-toggleable__content pre {margin: 0.2em;color: black;border-radius: 0.25em;background-color: #f0f8ff;}#sk-container-id-2 input.sk-toggleable__control:checked~div.sk-toggleable__content {max-height: 200px;max-width: 100%;overflow: auto;}#sk-container-id-2 input.sk-toggleable__control:checked~label.sk-toggleable__label-arrow:before {content: \"▾\";}#sk-container-id-2 div.sk-estimator input.sk-toggleable__control:checked~label.sk-toggleable__label {background-color: #d4ebff;}#sk-container-id-2 div.sk-label input.sk-toggleable__control:checked~label.sk-toggleable__label {background-color: #d4ebff;}#sk-container-id-2 input.sk-hidden--visually {border: 0;clip: rect(1px 1px 1px 1px);clip: rect(1px, 1px, 1px, 1px);height: 1px;margin: -1px;overflow: hidden;padding: 0;position: absolute;width: 1px;}#sk-container-id-2 div.sk-estimator {font-family: monospace;background-color: #f0f8ff;border: 1px dotted black;border-radius: 0.25em;box-sizing: border-box;margin-bottom: 0.5em;}#sk-container-id-2 div.sk-estimator:hover {background-color: #d4ebff;}#sk-container-id-2 div.sk-parallel-item::after {content: \"\";width: 100%;border-bottom: 1px solid gray;flex-grow: 1;}#sk-container-id-2 div.sk-label:hover label.sk-toggleable__label {background-color: #d4ebff;}#sk-container-id-2 div.sk-serial::before {content: \"\";position: absolute;border-left: 1px solid gray;box-sizing: border-box;top: 0;bottom: 0;left: 50%;z-index: 0;}#sk-container-id-2 div.sk-serial {display: flex;flex-direction: column;align-items: center;background-color: white;padding-right: 0.2em;padding-left: 0.2em;position: relative;}#sk-container-id-2 div.sk-item {position: relative;z-index: 1;}#sk-container-id-2 div.sk-parallel {display: flex;align-items: stretch;justify-content: center;background-color: white;position: relative;}#sk-container-id-2 div.sk-item::before, #sk-container-id-2 div.sk-parallel-item::before {content: \"\";position: absolute;border-left: 1px solid gray;box-sizing: border-box;top: 0;bottom: 0;left: 50%;z-index: -1;}#sk-container-id-2 div.sk-parallel-item {display: flex;flex-direction: column;z-index: 1;position: relative;background-color: white;}#sk-container-id-2 div.sk-parallel-item:first-child::after {align-self: flex-end;width: 50%;}#sk-container-id-2 div.sk-parallel-item:last-child::after {align-self: flex-start;width: 50%;}#sk-container-id-2 div.sk-parallel-item:only-child::after {width: 0;}#sk-container-id-2 div.sk-dashed-wrapped {border: 1px dashed gray;margin: 0 0.4em 0.5em 0.4em;box-sizing: border-box;padding-bottom: 0.4em;background-color: white;}#sk-container-id-2 div.sk-label label {font-family: monospace;font-weight: bold;display: inline-block;line-height: 1.2em;}#sk-container-id-2 div.sk-label-container {text-align: center;}#sk-container-id-2 div.sk-container {/* jupyter's `normalize.less` sets `[hidden] { display: none; }` but bootstrap.min.css set `[hidden] { display: none !important; }` so we also need the `!important` here to be able to override the default hidden behavior on the sphinx rendered scikit-learn.org. See: https://github.com/scikit-learn/scikit-learn/issues/21755 */display: inline-block !important;position: relative;}#sk-container-id-2 div.sk-text-repr-fallback {display: none;}</style><div id=\"sk-container-id-2\" class=\"sk-top-container\"><div class=\"sk-text-repr-fallback\"><pre>LogisticRegression(C=0.01, penalty=&#x27;l1&#x27;, solver=&#x27;liblinear&#x27;)</pre><b>In a Jupyter environment, please rerun this cell to show the HTML representation or trust the notebook. <br />On GitHub, the HTML representation is unable to render, please try loading this page with nbviewer.org.</b></div><div class=\"sk-container\" hidden><div class=\"sk-item\"><div class=\"sk-estimator sk-toggleable\"><input class=\"sk-toggleable__control sk-hidden--visually\" id=\"sk-estimator-id-2\" type=\"checkbox\" checked><label for=\"sk-estimator-id-2\" class=\"sk-toggleable__label sk-toggleable__label-arrow\">LogisticRegression</label><div class=\"sk-toggleable__content\"><pre>LogisticRegression(C=0.01, penalty=&#x27;l1&#x27;, solver=&#x27;liblinear&#x27;)</pre></div></div></div></div></div>"
      ],
      "text/plain": [
       "LogisticRegression(C=0.01, penalty='l1', solver='liblinear')"
      ]
     },
     "execution_count": 14,
     "metadata": {},
     "output_type": "execute_result"
    }
   ],
   "source": [
    "rlr = LogisticRegression(C=0.01, penalty='l1', solver='liblinear')\n",
    "\n",
    "rlr.fit(trainX, trainY.values.ravel())"
   ]
  },
  {
   "cell_type": "code",
   "execution_count": 15,
   "id": "3c093e56",
   "metadata": {
    "execution": {
     "iopub.execute_input": "2023-06-25T03:37:40.037577Z",
     "iopub.status.busy": "2023-06-25T03:37:40.037140Z",
     "iopub.status.idle": "2023-06-25T03:37:40.044386Z",
     "shell.execute_reply": "2023-06-25T03:37:40.043071Z"
    },
    "papermill": {
     "duration": 0.030422,
     "end_time": "2023-06-25T03:37:40.046750",
     "exception": false,
     "start_time": "2023-06-25T03:37:40.016328",
     "status": "completed"
    },
    "tags": []
   },
   "outputs": [],
   "source": [
    "y_predicted = rlr.predict(testX)"
   ]
  },
  {
   "cell_type": "code",
   "execution_count": 16,
   "id": "e66c6c09",
   "metadata": {
    "execution": {
     "iopub.execute_input": "2023-06-25T03:37:40.085709Z",
     "iopub.status.busy": "2023-06-25T03:37:40.085305Z",
     "iopub.status.idle": "2023-06-25T03:37:40.099459Z",
     "shell.execute_reply": "2023-06-25T03:37:40.098324Z"
    },
    "papermill": {
     "duration": 0.036701,
     "end_time": "2023-06-25T03:37:40.102024",
     "exception": false,
     "start_time": "2023-06-25T03:37:40.065323",
     "status": "completed"
    },
    "tags": []
   },
   "outputs": [
    {
     "data": {
      "text/plain": [
       "array([[325,  10,   2],\n",
       "       [ 46,  18,   0],\n",
       "       [  5,   8,  12]])"
      ]
     },
     "execution_count": 16,
     "metadata": {},
     "output_type": "execute_result"
    }
   ],
   "source": [
    "confusion_matrix(testY,y_predicted)"
   ]
  },
  {
   "cell_type": "code",
   "execution_count": 17,
   "id": "1fcdaaad",
   "metadata": {
    "execution": {
     "iopub.execute_input": "2023-06-25T03:37:40.141368Z",
     "iopub.status.busy": "2023-06-25T03:37:40.140973Z",
     "iopub.status.idle": "2023-06-25T03:37:40.149581Z",
     "shell.execute_reply": "2023-06-25T03:37:40.148433Z"
    },
    "papermill": {
     "duration": 0.031227,
     "end_time": "2023-06-25T03:37:40.151889",
     "exception": false,
     "start_time": "2023-06-25T03:37:40.120662",
     "status": "completed"
    },
    "tags": []
   },
   "outputs": [
    {
     "data": {
      "text/plain": [
       "(0.852112676056338, 0.852112676056338, 0.9201520912547528, 0.852112676056338)"
      ]
     },
     "execution_count": 17,
     "metadata": {},
     "output_type": "execute_result"
    }
   ],
   "source": [
    "rlr_tp = 363\n",
    "rlr_fp = 63\n",
    "rlr_fn = 63\n",
    "rlr_tn = 726\n",
    "\n",
    "rlr_precision = rlr_tp/(rlr_tp+rlr_fp)\n",
    "rlr_recall = rlr_tp/(rlr_tp+rlr_fn)\n",
    "rlr_specificity = rlr_tn/(rlr_fp+rlr_tn)\n",
    "rlr_f1= 2* (rlr_precision*rlr_recall)/(rlr_precision+rlr_recall)\n",
    "rlr_precision, rlr_recall, rlr_specificity, rlr_f1"
   ]
  },
  {
   "cell_type": "code",
   "execution_count": 18,
   "id": "79802e64",
   "metadata": {
    "execution": {
     "iopub.execute_input": "2023-06-25T03:37:40.191568Z",
     "iopub.status.busy": "2023-06-25T03:37:40.191152Z",
     "iopub.status.idle": "2023-06-25T03:37:40.452828Z",
     "shell.execute_reply": "2023-06-25T03:37:40.451652Z"
    },
    "papermill": {
     "duration": 0.285349,
     "end_time": "2023-06-25T03:37:40.456080",
     "exception": false,
     "start_time": "2023-06-25T03:37:40.170731",
     "status": "completed"
    },
    "tags": []
   },
   "outputs": [
    {
     "data": {
      "image/png": "[encoded data removed]",
      "text/plain": [
       "<Figure size 640x480 with 1 Axes>"
      ]
     },
     "metadata": {},
     "output_type": "display_data"
    },
    {
     "name": "stdout",
     "output_type": "stream",
     "text": [
      "rlr_Precision: 85.2112676056338%\n",
      "rlr_Recall: 85.2112676056338%\n",
      "rlr_Specificity: 92.01520912547528%\n",
      "rlr_F1-score: 85.2112676056338%\n"
     ]
    }
   ],
   "source": [
    "scores_label = [ 'rlr_Precision', 'rlr_Recall', 'rlr_Specificity', 'rlr_F1-score']\n",
    "scores_values = [rlr_precision, rlr_recall, rlr_specificity , rlr_f1]\n",
    "\n",
    "plt.bar(scores_label, scores_values)\n",
    "plt.ylim([0, 1])\n",
    "plt.ylabel('Score')\n",
    "plt.title('RLR Performance Metrics')\n",
    "\n",
    "# Show the plot\n",
    "plt.show()\n",
    "i=0\n",
    "for x in scores_label:\n",
    "    print(f'{x}: {scores_values[i] *100}%')\n",
    "    i+=1"
   ]
  },
  {
   "cell_type": "markdown",
   "id": "bc7e3cba",
   "metadata": {
    "papermill": {
     "duration": 0.020581,
     "end_time": "2023-06-25T03:37:40.496046",
     "exception": false,
     "start_time": "2023-06-25T03:37:40.475465",
     "status": "completed"
    },
    "tags": []
   },
   "source": [
    "**SVM**\n",
    "\n",
    "Making the model"
   ]
  },
  {
   "cell_type": "code",
   "execution_count": 19,
   "id": "dffa32c5",
   "metadata": {
    "execution": {
     "iopub.execute_input": "2023-06-25T03:37:40.539020Z",
     "iopub.status.busy": "2023-06-25T03:37:40.538161Z",
     "iopub.status.idle": "2023-06-25T03:37:44.678943Z",
     "shell.execute_reply": "2023-06-25T03:37:44.677678Z"
    },
    "papermill": {
     "duration": 4.164868,
     "end_time": "2023-06-25T03:37:44.681436",
     "exception": false,
     "start_time": "2023-06-25T03:37:40.516568",
     "status": "completed"
    },
    "tags": []
   },
   "outputs": [
    {
     "data": {
      "text/html": [
       "<style>#sk-container-id-3 {color: black;background-color: white;}#sk-container-id-3 pre{padding: 0;}#sk-container-id-3 div.sk-toggleable {background-color: white;}#sk-container-id-3 label.sk-toggleable__label {cursor: pointer;display: block;width: 100%;margin-bottom: 0;padding: 0.3em;box-sizing: border-box;text-align: center;}#sk-container-id-3 label.sk-toggleable__label-arrow:before {content: \"▸\";float: left;margin-right: 0.25em;color: #696969;}#sk-container-id-3 label.sk-toggleable__label-arrow:hover:before {color: black;}#sk-container-id-3 div.sk-estimator:hover label.sk-toggleable__label-arrow:before {color: black;}#sk-container-id-3 div.sk-toggleable__content {max-height: 0;max-width: 0;overflow: hidden;text-align: left;background-color: #f0f8ff;}#sk-container-id-3 div.sk-toggleable__content pre {margin: 0.2em;color: black;border-radius: 0.25em;background-color: #f0f8ff;}#sk-container-id-3 input.sk-toggleable__control:checked~div.sk-toggleable__content {max-height: 200px;max-width: 100%;overflow: auto;}#sk-container-id-3 input.sk-toggleable__control:checked~label.sk-toggleable__label-arrow:before {content: \"▾\";}#sk-container-id-3 div.sk-estimator input.sk-toggleable__control:checked~label.sk-toggleable__label {background-color: #d4ebff;}#sk-container-id-3 div.sk-label input.sk-toggleable__control:checked~label.sk-toggleable__label {background-color: #d4ebff;}#sk-container-id-3 input.sk-hidden--visually {border: 0;clip: rect(1px 1px 1px 1px);clip: rect(1px, 1px, 1px, 1px);height: 1px;margin: -1px;overflow: hidden;padding: 0;position: absolute;width: 1px;}#sk-container-id-3 div.sk-estimator {font-family: monospace;background-color: #f0f8ff;border: 1px dotted black;border-radius: 0.25em;box-sizing: border-box;margin-bottom: 0.5em;}#sk-container-id-3 div.sk-estimator:hover {background-color: #d4ebff;}#sk-container-id-3 div.sk-parallel-item::after {content: \"\";width: 100%;border-bottom: 1px solid gray;flex-grow: 1;}#sk-container-id-3 div.sk-label:hover label.sk-toggleable__label {background-color: #d4ebff;}#sk-container-id-3 div.sk-serial::before {content: \"\";position: absolute;border-left: 1px solid gray;box-sizing: border-box;top: 0;bottom: 0;left: 50%;z-index: 0;}#sk-container-id-3 div.sk-serial {display: flex;flex-direction: column;align-items: center;background-color: white;padding-right: 0.2em;padding-left: 0.2em;position: relative;}#sk-container-id-3 div.sk-item {position: relative;z-index: 1;}#sk-container-id-3 div.sk-parallel {display: flex;align-items: stretch;justify-content: center;background-color: white;position: relative;}#sk-container-id-3 div.sk-item::before, #sk-container-id-3 div.sk-parallel-item::before {content: \"\";position: absolute;border-left: 1px solid gray;box-sizing: border-box;top: 0;bottom: 0;left: 50%;z-index: -1;}#sk-container-id-3 div.sk-parallel-item {display: flex;flex-direction: column;z-index: 1;position: relative;background-color: white;}#sk-container-id-3 div.sk-parallel-item:first-child::after {align-self: flex-end;width: 50%;}#sk-container-id-3 div.sk-parallel-item:last-child::after {align-self: flex-start;width: 50%;}#sk-container-id-3 div.sk-parallel-item:only-child::after {width: 0;}#sk-container-id-3 div.sk-dashed-wrapped {border: 1px dashed gray;margin: 0 0.4em 0.5em 0.4em;box-sizing: border-box;padding-bottom: 0.4em;background-color: white;}#sk-container-id-3 div.sk-label label {font-family: monospace;font-weight: bold;display: inline-block;line-height: 1.2em;}#sk-container-id-3 div.sk-label-container {text-align: center;}#sk-container-id-3 div.sk-container {/* jupyter's `normalize.less` sets `[hidden] { display: none; }` but bootstrap.min.css set `[hidden] { display: none !important; }` so we also need the `!important` here to be able to override the default hidden behavior on the sphinx rendered scikit-learn.org. See: https://github.com/scikit-learn/scikit-learn/issues/21755 */display: inline-block !important;position: relative;}#sk-container-id-3 div.sk-text-repr-fallback {display: none;}</style><div id=\"sk-container-id-3\" class=\"sk-top-container\"><div class=\"sk-text-repr-fallback\"><pre>SVC(kernel=&#x27;linear&#x27;)</pre><b>In a Jupyter environment, please rerun this cell to show the HTML representation or trust the notebook. <br />On GitHub, the HTML representation is unable to render, please try loading this page with nbviewer.org.</b></div><div class=\"sk-container\" hidden><div class=\"sk-item\"><div class=\"sk-estimator sk-toggleable\"><input class=\"sk-toggleable__control sk-hidden--visually\" id=\"sk-estimator-id-3\" type=\"checkbox\" checked><label for=\"sk-estimator-id-3\" class=\"sk-toggleable__label sk-toggleable__label-arrow\">SVC</label><div class=\"sk-toggleable__content\"><pre>SVC(kernel=&#x27;linear&#x27;)</pre></div></div></div></div></div>"
      ],
      "text/plain": [
       "SVC(kernel='linear')"
      ]
     },
     "execution_count": 19,
     "metadata": {},
     "output_type": "execute_result"
    }
   ],
   "source": [
    "svm = SVC(kernel='linear')\n",
    "svm.fit(trainX, trainY.values.ravel())"
   ]
  },
  {
   "cell_type": "markdown",
   "id": "906aa642",
   "metadata": {
    "papermill": {
     "duration": 0.020172,
     "end_time": "2023-06-25T03:37:44.721158",
     "exception": false,
     "start_time": "2023-06-25T03:37:44.700986",
     "status": "completed"
    },
    "tags": []
   },
   "source": [
    "Making the confusion matrix."
   ]
  },
  {
   "cell_type": "code",
   "execution_count": 20,
   "id": "e789a8db",
   "metadata": {
    "execution": {
     "iopub.execute_input": "2023-06-25T03:37:44.763194Z",
     "iopub.status.busy": "2023-06-25T03:37:44.762817Z",
     "iopub.status.idle": "2023-06-25T03:37:44.776588Z",
     "shell.execute_reply": "2023-06-25T03:37:44.775542Z"
    },
    "papermill": {
     "duration": 0.038576,
     "end_time": "2023-06-25T03:37:44.779292",
     "exception": false,
     "start_time": "2023-06-25T03:37:44.740716",
     "status": "completed"
    },
    "tags": []
   },
   "outputs": [],
   "source": [
    "y_predicted = svm.predict(testX)"
   ]
  },
  {
   "cell_type": "code",
   "execution_count": 21,
   "id": "6f2ef9ec",
   "metadata": {
    "execution": {
     "iopub.execute_input": "2023-06-25T03:37:44.821056Z",
     "iopub.status.busy": "2023-06-25T03:37:44.820664Z",
     "iopub.status.idle": "2023-06-25T03:37:44.833665Z",
     "shell.execute_reply": "2023-06-25T03:37:44.832725Z"
    },
    "papermill": {
     "duration": 0.036396,
     "end_time": "2023-06-25T03:37:44.835810",
     "exception": false,
     "start_time": "2023-06-25T03:37:44.799414",
     "status": "completed"
    },
    "tags": []
   },
   "outputs": [
    {
     "data": {
      "text/plain": [
       "array([[323,  13,   1],\n",
       "       [ 29,  30,   5],\n",
       "       [  3,   4,  18]])"
      ]
     },
     "execution_count": 21,
     "metadata": {},
     "output_type": "execute_result"
    }
   ],
   "source": [
    "confusion_matrix(testY,y_predicted)"
   ]
  },
  {
   "cell_type": "markdown",
   "id": "f81c6c71",
   "metadata": {
    "papermill": {
     "duration": 0.019328,
     "end_time": "2023-06-25T03:37:44.874822",
     "exception": false,
     "start_time": "2023-06-25T03:37:44.855494",
     "status": "completed"
    },
    "tags": []
   },
   "source": [
    "Calculating precision, recall, specificity, and f1-score."
   ]
  },
  {
   "cell_type": "code",
   "execution_count": 22,
   "id": "1ed47eda",
   "metadata": {
    "execution": {
     "iopub.execute_input": "2023-06-25T03:37:44.916152Z",
     "iopub.status.busy": "2023-06-25T03:37:44.915442Z",
     "iopub.status.idle": "2023-06-25T03:37:44.923065Z",
     "shell.execute_reply": "2023-06-25T03:37:44.922326Z"
    },
    "papermill": {
     "duration": 0.031074,
     "end_time": "2023-06-25T03:37:44.925373",
     "exception": false,
     "start_time": "2023-06-25T03:37:44.894299",
     "status": "completed"
    },
    "tags": []
   },
   "outputs": [
    {
     "data": {
      "text/plain": [
       "(0.8779342723004695, 0.8779342723004695, 0.935, 0.8779342723004695)"
      ]
     },
     "execution_count": 22,
     "metadata": {},
     "output_type": "execute_result"
    }
   ],
   "source": [
    "svm_tp = 374\n",
    "svm_fp = 52\n",
    "svm_fn = 52\n",
    "svm_tn = 748\n",
    "\n",
    "svm_precision = svm_tp/(svm_tp+svm_fp)\n",
    "svm_recall = svm_tp/(svm_tp+svm_fp)\n",
    "svm_specificity = svm_tn/(svm_fp+svm_tn)\n",
    "svm_f1= 2*(svm_precision*svm_recall)/(svm_precision+svm_recall)\n",
    "svm_precision, svm_recall, svm_specificity, svm_f1"
   ]
  },
  {
   "cell_type": "code",
   "execution_count": 23,
   "id": "8a0e5737",
   "metadata": {
    "execution": {
     "iopub.execute_input": "2023-06-25T03:37:44.967169Z",
     "iopub.status.busy": "2023-06-25T03:37:44.966756Z",
     "iopub.status.idle": "2023-06-25T03:37:45.225254Z",
     "shell.execute_reply": "2023-06-25T03:37:45.224030Z"
    },
    "papermill": {
     "duration": 0.282779,
     "end_time": "2023-06-25T03:37:45.228416",
     "exception": false,
     "start_time": "2023-06-25T03:37:44.945637",
     "status": "completed"
    },
    "tags": []
   },
   "outputs": [
    {
     "data": {
      "image/png": "[encoded data removed]",
      "text/plain": [
       "<Figure size 640x480 with 1 Axes>"
      ]
     },
     "metadata": {},
     "output_type": "display_data"
    },
    {
     "name": "stdout",
     "output_type": "stream",
     "text": [
      "svm_Precision: 87.79342723004694%\n",
      "svm_Recall: 87.79342723004694%\n",
      "svm_Specificity: 93.5%\n",
      "svm_F1-score: 87.79342723004694%\n"
     ]
    }
   ],
   "source": [
    "scores_label = [ 'svm_Precision', 'svm_Recall', 'svm_Specificity', 'svm_F1-score']\n",
    "scores_values = [svm_precision, svm_recall, svm_specificity , svm_f1]\n",
    "\n",
    "plt.bar(scores_label, scores_values)\n",
    "plt.ylim([0, 1])\n",
    "plt.ylabel('Score')\n",
    "plt.title('SVM Performance Metrics')\n",
    "\n",
    "# Show the plot\n",
    "plt.show()\n",
    "i=0\n",
    "for x in scores_label:\n",
    "    print(f'{x}: {scores_values[i] *100}%')\n",
    "    i+=1"
   ]
  },
  {
   "cell_type": "markdown",
   "id": "7975a2d8",
   "metadata": {
    "papermill": {
     "duration": 0.020103,
     "end_time": "2023-06-25T03:37:45.269853",
     "exception": false,
     "start_time": "2023-06-25T03:37:45.249750",
     "status": "completed"
    },
    "tags": []
   },
   "source": [
    "**Naive Bayes**\n",
    "\n",
    "Making the model.\n"
   ]
  },
  {
   "cell_type": "code",
   "execution_count": 24,
   "id": "c490b59e",
   "metadata": {
    "execution": {
     "iopub.execute_input": "2023-06-25T03:37:45.314413Z",
     "iopub.status.busy": "2023-06-25T03:37:45.313680Z",
     "iopub.status.idle": "2023-06-25T03:37:45.325563Z",
     "shell.execute_reply": "2023-06-25T03:37:45.324086Z"
    },
    "papermill": {
     "duration": 0.036982,
     "end_time": "2023-06-25T03:37:45.328698",
     "exception": false,
     "start_time": "2023-06-25T03:37:45.291716",
     "status": "completed"
    },
    "tags": []
   },
   "outputs": [
    {
     "data": {
      "text/html": [
       "<style>#sk-container-id-4 {color: black;background-color: white;}#sk-container-id-4 pre{padding: 0;}#sk-container-id-4 div.sk-toggleable {background-color: white;}#sk-container-id-4 label.sk-toggleable__label {cursor: pointer;display: block;width: 100%;margin-bottom: 0;padding: 0.3em;box-sizing: border-box;text-align: center;}#sk-container-id-4 label.sk-toggleable__label-arrow:before {content: \"▸\";float: left;margin-right: 0.25em;color: #696969;}#sk-container-id-4 label.sk-toggleable__label-arrow:hover:before {color: black;}#sk-container-id-4 div.sk-estimator:hover label.sk-toggleable__label-arrow:before {color: black;}#sk-container-id-4 div.sk-toggleable__content {max-height: 0;max-width: 0;overflow: hidden;text-align: left;background-color: #f0f8ff;}#sk-container-id-4 div.sk-toggleable__content pre {margin: 0.2em;color: black;border-radius: 0.25em;background-color: #f0f8ff;}#sk-container-id-4 input.sk-toggleable__control:checked~div.sk-toggleable__content {max-height: 200px;max-width: 100%;overflow: auto;}#sk-container-id-4 input.sk-toggleable__control:checked~label.sk-toggleable__label-arrow:before {content: \"▾\";}#sk-container-id-4 div.sk-estimator input.sk-toggleable__control:checked~label.sk-toggleable__label {background-color: #d4ebff;}#sk-container-id-4 div.sk-label input.sk-toggleable__control:checked~label.sk-toggleable__label {background-color: #d4ebff;}#sk-container-id-4 input.sk-hidden--visually {border: 0;clip: rect(1px 1px 1px 1px);clip: rect(1px, 1px, 1px, 1px);height: 1px;margin: -1px;overflow: hidden;padding: 0;position: absolute;width: 1px;}#sk-container-id-4 div.sk-estimator {font-family: monospace;background-color: #f0f8ff;border: 1px dotted black;border-radius: 0.25em;box-sizing: border-box;margin-bottom: 0.5em;}#sk-container-id-4 div.sk-estimator:hover {background-color: #d4ebff;}#sk-container-id-4 div.sk-parallel-item::after {content: \"\";width: 100%;border-bottom: 1px solid gray;flex-grow: 1;}#sk-container-id-4 div.sk-label:hover label.sk-toggleable__label {background-color: #d4ebff;}#sk-container-id-4 div.sk-serial::before {content: \"\";position: absolute;border-left: 1px solid gray;box-sizing: border-box;top: 0;bottom: 0;left: 50%;z-index: 0;}#sk-container-id-4 div.sk-serial {display: flex;flex-direction: column;align-items: center;background-color: white;padding-right: 0.2em;padding-left: 0.2em;position: relative;}#sk-container-id-4 div.sk-item {position: relative;z-index: 1;}#sk-container-id-4 div.sk-parallel {display: flex;align-items: stretch;justify-content: center;background-color: white;position: relative;}#sk-container-id-4 div.sk-item::before, #sk-container-id-4 div.sk-parallel-item::before {content: \"\";position: absolute;border-left: 1px solid gray;box-sizing: border-box;top: 0;bottom: 0;left: 50%;z-index: -1;}#sk-container-id-4 div.sk-parallel-item {display: flex;flex-direction: column;z-index: 1;position: relative;background-color: white;}#sk-container-id-4 div.sk-parallel-item:first-child::after {align-self: flex-end;width: 50%;}#sk-container-id-4 div.sk-parallel-item:last-child::after {align-self: flex-start;width: 50%;}#sk-container-id-4 div.sk-parallel-item:only-child::after {width: 0;}#sk-container-id-4 div.sk-dashed-wrapped {border: 1px dashed gray;margin: 0 0.4em 0.5em 0.4em;box-sizing: border-box;padding-bottom: 0.4em;background-color: white;}#sk-container-id-4 div.sk-label label {font-family: monospace;font-weight: bold;display: inline-block;line-height: 1.2em;}#sk-container-id-4 div.sk-label-container {text-align: center;}#sk-container-id-4 div.sk-container {/* jupyter's `normalize.less` sets `[hidden] { display: none; }` but bootstrap.min.css set `[hidden] { display: none !important; }` so we also need the `!important` here to be able to override the default hidden behavior on the sphinx rendered scikit-learn.org. See: https://github.com/scikit-learn/scikit-learn/issues/21755 */display: inline-block !important;position: relative;}#sk-container-id-4 div.sk-text-repr-fallback {display: none;}</style><div id=\"sk-container-id-4\" class=\"sk-top-container\"><div class=\"sk-text-repr-fallback\"><pre>GaussianNB()</pre><b>In a Jupyter environment, please rerun this cell to show the HTML representation or trust the notebook. <br />On GitHub, the HTML representation is unable to render, please try loading this page with nbviewer.org.</b></div><div class=\"sk-container\" hidden><div class=\"sk-item\"><div class=\"sk-estimator sk-toggleable\"><input class=\"sk-toggleable__control sk-hidden--visually\" id=\"sk-estimator-id-4\" type=\"checkbox\" checked><label for=\"sk-estimator-id-4\" class=\"sk-toggleable__label sk-toggleable__label-arrow\">GaussianNB</label><div class=\"sk-toggleable__content\"><pre>GaussianNB()</pre></div></div></div></div></div>"
      ],
      "text/plain": [
       "GaussianNB()"
      ]
     },
     "execution_count": 24,
     "metadata": {},
     "output_type": "execute_result"
    }
   ],
   "source": [
    "nb = GaussianNB()\n",
    "nb.fit(trainX, trainY.values.ravel())"
   ]
  },
  {
   "cell_type": "markdown",
   "id": "2c3d9ab7",
   "metadata": {
    "papermill": {
     "duration": 0.021165,
     "end_time": "2023-06-25T03:37:45.371569",
     "exception": false,
     "start_time": "2023-06-25T03:37:45.350404",
     "status": "completed"
    },
    "tags": []
   },
   "source": [
    "Making the confusion matrix"
   ]
  },
  {
   "cell_type": "code",
   "execution_count": 25,
   "id": "15a23157",
   "metadata": {
    "execution": {
     "iopub.execute_input": "2023-06-25T03:37:45.414928Z",
     "iopub.status.busy": "2023-06-25T03:37:45.414518Z",
     "iopub.status.idle": "2023-06-25T03:37:45.421502Z",
     "shell.execute_reply": "2023-06-25T03:37:45.420557Z"
    },
    "papermill": {
     "duration": 0.03135,
     "end_time": "2023-06-25T03:37:45.423662",
     "exception": false,
     "start_time": "2023-06-25T03:37:45.392312",
     "status": "completed"
    },
    "tags": []
   },
   "outputs": [],
   "source": [
    "y_predicted = nb.predict(testX)"
   ]
  },
  {
   "cell_type": "code",
   "execution_count": 26,
   "id": "1bb8e526",
   "metadata": {
    "execution": {
     "iopub.execute_input": "2023-06-25T03:37:45.466884Z",
     "iopub.status.busy": "2023-06-25T03:37:45.466085Z",
     "iopub.status.idle": "2023-06-25T03:37:45.478605Z",
     "shell.execute_reply": "2023-06-25T03:37:45.477551Z"
    },
    "papermill": {
     "duration": 0.036497,
     "end_time": "2023-06-25T03:37:45.480875",
     "exception": false,
     "start_time": "2023-06-25T03:37:45.444378",
     "status": "completed"
    },
    "tags": []
   },
   "outputs": [
    {
     "data": {
      "text/plain": [
       "array([[272,  55,  10],\n",
       "       [  7,  55,   2],\n",
       "       [  2,   9,  14]])"
      ]
     },
     "execution_count": 26,
     "metadata": {},
     "output_type": "execute_result"
    }
   ],
   "source": [
    "confusion_matrix(testY,y_predicted)"
   ]
  },
  {
   "cell_type": "markdown",
   "id": "947f2cc0",
   "metadata": {
    "papermill": {
     "duration": 0.020398,
     "end_time": "2023-06-25T03:37:45.522290",
     "exception": false,
     "start_time": "2023-06-25T03:37:45.501892",
     "status": "completed"
    },
    "tags": []
   },
   "source": [
    "Calculating precision, recall, specificity, and f1-score."
   ]
  },
  {
   "cell_type": "code",
   "execution_count": 27,
   "id": "138c65af",
   "metadata": {
    "execution": {
     "iopub.execute_input": "2023-06-25T03:37:45.566472Z",
     "iopub.status.busy": "2023-06-25T03:37:45.565861Z",
     "iopub.status.idle": "2023-06-25T03:37:45.574979Z",
     "shell.execute_reply": "2023-06-25T03:37:45.573839Z"
    },
    "papermill": {
     "duration": 0.034475,
     "end_time": "2023-06-25T03:37:45.577457",
     "exception": false,
     "start_time": "2023-06-25T03:37:45.542982",
     "status": "completed"
    },
    "tags": []
   },
   "outputs": [
    {
     "data": {
      "text/plain": [
       "(0.823943661971831, 0.823943661971831, 0.9034749034749034, 0.823943661971831)"
      ]
     },
     "execution_count": 27,
     "metadata": {},
     "output_type": "execute_result"
    }
   ],
   "source": [
    "nb_tp = 351\n",
    "nb_fp =75\n",
    "nb_fn = 75\n",
    "nb_tn = 702\n",
    "\n",
    "nb_precision = nb_tp/(nb_tp+nb_fp)\n",
    "nb_recall = nb_tp/(nb_tp+nb_fn)\n",
    "nb_specificity = nb_tn/(nb_fp+nb_tn)\n",
    "nb_f1= 2* (nb_precision*nb_recall)/(nb_precision+nb_recall)\n",
    "nb_precision, nb_recall, nb_specificity, nb_f1"
   ]
  },
  {
   "cell_type": "code",
   "execution_count": 28,
   "id": "21cd97bd",
   "metadata": {
    "execution": {
     "iopub.execute_input": "2023-06-25T03:37:45.621670Z",
     "iopub.status.busy": "2023-06-25T03:37:45.620890Z",
     "iopub.status.idle": "2023-06-25T03:37:45.877552Z",
     "shell.execute_reply": "2023-06-25T03:37:45.876691Z"
    },
    "papermill": {
     "duration": 0.281896,
     "end_time": "2023-06-25T03:37:45.880529",
     "exception": false,
     "start_time": "2023-06-25T03:37:45.598633",
     "status": "completed"
    },
    "tags": []
   },
   "outputs": [
    {
     "data": {
      "image/png": "[encoded data removed]",
      "text/plain": [
       "<Figure size 640x480 with 1 Axes>"
      ]
     },
     "metadata": {},
     "output_type": "display_data"
    },
    {
     "name": "stdout",
     "output_type": "stream",
     "text": [
      "nb_Precision: 82.3943661971831%\n",
      "nb_Recall: 82.3943661971831%\n",
      "nb_Specificity: 90.34749034749035%\n",
      "nb_F1-score: 82.3943661971831%\n"
     ]
    }
   ],
   "source": [
    "scores_label = [ 'nb_Precision', 'nb_Recall', 'nb_Specificity', 'nb_F1-score']\n",
    "scores_values = [nb_precision, nb_recall, nb_specificity , nb_f1]\n",
    "\n",
    "plt.bar(scores_label, scores_values)\n",
    "plt.ylim([0, 1])\n",
    "plt.ylabel('Score')\n",
    "plt.title('NB Performance Metrics')\n",
    "\n",
    "# Show the plot\n",
    "plt.show()\n",
    "i=0\n",
    "for x in scores_label:\n",
    "    print(f'{x}: {scores_values[i] *100}%')\n",
    "    i+=1"
   ]
  },
  {
   "cell_type": "markdown",
   "id": "51f3a5ff",
   "metadata": {
    "papermill": {
     "duration": 0.022256,
     "end_time": "2023-06-25T03:37:45.924618",
     "exception": false,
     "start_time": "2023-06-25T03:37:45.902362",
     "status": "completed"
    },
    "tags": []
   },
   "source": [
    "**Random Forest**\n",
    "\n",
    "Making the model."
   ]
  },
  {
   "cell_type": "code",
   "execution_count": 29,
   "id": "2051b66a",
   "metadata": {
    "execution": {
     "iopub.execute_input": "2023-06-25T03:37:45.969450Z",
     "iopub.status.busy": "2023-06-25T03:37:45.968628Z",
     "iopub.status.idle": "2023-06-25T03:37:46.430015Z",
     "shell.execute_reply": "2023-06-25T03:37:46.428877Z"
    },
    "papermill": {
     "duration": 0.48673,
     "end_time": "2023-06-25T03:37:46.432786",
     "exception": false,
     "start_time": "2023-06-25T03:37:45.946056",
     "status": "completed"
    },
    "tags": []
   },
   "outputs": [
    {
     "data": {
      "text/html": [
       "<style>#sk-container-id-5 {color: black;background-color: white;}#sk-container-id-5 pre{padding: 0;}#sk-container-id-5 div.sk-toggleable {background-color: white;}#sk-container-id-5 label.sk-toggleable__label {cursor: pointer;display: block;width: 100%;margin-bottom: 0;padding: 0.3em;box-sizing: border-box;text-align: center;}#sk-container-id-5 label.sk-toggleable__label-arrow:before {content: \"▸\";float: left;margin-right: 0.25em;color: #696969;}#sk-container-id-5 label.sk-toggleable__label-arrow:hover:before {color: black;}#sk-container-id-5 div.sk-estimator:hover label.sk-toggleable__label-arrow:before {color: black;}#sk-container-id-5 div.sk-toggleable__content {max-height: 0;max-width: 0;overflow: hidden;text-align: left;background-color: #f0f8ff;}#sk-container-id-5 div.sk-toggleable__content pre {margin: 0.2em;color: black;border-radius: 0.25em;background-color: #f0f8ff;}#sk-container-id-5 input.sk-toggleable__control:checked~div.sk-toggleable__content {max-height: 200px;max-width: 100%;overflow: auto;}#sk-container-id-5 input.sk-toggleable__control:checked~label.sk-toggleable__label-arrow:before {content: \"▾\";}#sk-container-id-5 div.sk-estimator input.sk-toggleable__control:checked~label.sk-toggleable__label {background-color: #d4ebff;}#sk-container-id-5 div.sk-label input.sk-toggleable__control:checked~label.sk-toggleable__label {background-color: #d4ebff;}#sk-container-id-5 input.sk-hidden--visually {border: 0;clip: rect(1px 1px 1px 1px);clip: rect(1px, 1px, 1px, 1px);height: 1px;margin: -1px;overflow: hidden;padding: 0;position: absolute;width: 1px;}#sk-container-id-5 div.sk-estimator {font-family: monospace;background-color: #f0f8ff;border: 1px dotted black;border-radius: 0.25em;box-sizing: border-box;margin-bottom: 0.5em;}#sk-container-id-5 div.sk-estimator:hover {background-color: #d4ebff;}#sk-container-id-5 div.sk-parallel-item::after {content: \"\";width: 100%;border-bottom: 1px solid gray;flex-grow: 1;}#sk-container-id-5 div.sk-label:hover label.sk-toggleable__label {background-color: #d4ebff;}#sk-container-id-5 div.sk-serial::before {content: \"\";position: absolute;border-left: 1px solid gray;box-sizing: border-box;top: 0;bottom: 0;left: 50%;z-index: 0;}#sk-container-id-5 div.sk-serial {display: flex;flex-direction: column;align-items: center;background-color: white;padding-right: 0.2em;padding-left: 0.2em;position: relative;}#sk-container-id-5 div.sk-item {position: relative;z-index: 1;}#sk-container-id-5 div.sk-parallel {display: flex;align-items: stretch;justify-content: center;background-color: white;position: relative;}#sk-container-id-5 div.sk-item::before, #sk-container-id-5 div.sk-parallel-item::before {content: \"\";position: absolute;border-left: 1px solid gray;box-sizing: border-box;top: 0;bottom: 0;left: 50%;z-index: -1;}#sk-container-id-5 div.sk-parallel-item {display: flex;flex-direction: column;z-index: 1;position: relative;background-color: white;}#sk-container-id-5 div.sk-parallel-item:first-child::after {align-self: flex-end;width: 50%;}#sk-container-id-5 div.sk-parallel-item:last-child::after {align-self: flex-start;width: 50%;}#sk-container-id-5 div.sk-parallel-item:only-child::after {width: 0;}#sk-container-id-5 div.sk-dashed-wrapped {border: 1px dashed gray;margin: 0 0.4em 0.5em 0.4em;box-sizing: border-box;padding-bottom: 0.4em;background-color: white;}#sk-container-id-5 div.sk-label label {font-family: monospace;font-weight: bold;display: inline-block;line-height: 1.2em;}#sk-container-id-5 div.sk-label-container {text-align: center;}#sk-container-id-5 div.sk-container {/* jupyter's `normalize.less` sets `[hidden] { display: none; }` but bootstrap.min.css set `[hidden] { display: none !important; }` so we also need the `!important` here to be able to override the default hidden behavior on the sphinx rendered scikit-learn.org. See: https://github.com/scikit-learn/scikit-learn/issues/21755 */display: inline-block !important;position: relative;}#sk-container-id-5 div.sk-text-repr-fallback {display: none;}</style><div id=\"sk-container-id-5\" class=\"sk-top-container\"><div class=\"sk-text-repr-fallback\"><pre>RandomForestClassifier()</pre><b>In a Jupyter environment, please rerun this cell to show the HTML representation or trust the notebook. <br />On GitHub, the HTML representation is unable to render, please try loading this page with nbviewer.org.</b></div><div class=\"sk-container\" hidden><div class=\"sk-item\"><div class=\"sk-estimator sk-toggleable\"><input class=\"sk-toggleable__control sk-hidden--visually\" id=\"sk-estimator-id-5\" type=\"checkbox\" checked><label for=\"sk-estimator-id-5\" class=\"sk-toggleable__label sk-toggleable__label-arrow\">RandomForestClassifier</label><div class=\"sk-toggleable__content\"><pre>RandomForestClassifier()</pre></div></div></div></div></div>"
      ],
      "text/plain": [
       "RandomForestClassifier()"
      ]
     },
     "execution_count": 29,
     "metadata": {},
     "output_type": "execute_result"
    }
   ],
   "source": [
    "rf = RandomForestClassifier()\n",
    "rf.fit(trainX, trainY.values.ravel())"
   ]
  },
  {
   "cell_type": "markdown",
   "id": "058d9d9c",
   "metadata": {
    "papermill": {
     "duration": 0.021364,
     "end_time": "2023-06-25T03:37:46.476382",
     "exception": false,
     "start_time": "2023-06-25T03:37:46.455018",
     "status": "completed"
    },
    "tags": []
   },
   "source": [
    "Making the confusion matrix."
   ]
  },
  {
   "cell_type": "code",
   "execution_count": 30,
   "id": "8f19dfbd",
   "metadata": {
    "execution": {
     "iopub.execute_input": "2023-06-25T03:37:46.522789Z",
     "iopub.status.busy": "2023-06-25T03:37:46.522383Z",
     "iopub.status.idle": "2023-06-25T03:37:46.535514Z",
     "shell.execute_reply": "2023-06-25T03:37:46.534338Z"
    },
    "papermill": {
     "duration": 0.039858,
     "end_time": "2023-06-25T03:37:46.538149",
     "exception": false,
     "start_time": "2023-06-25T03:37:46.498291",
     "status": "completed"
    },
    "tags": []
   },
   "outputs": [],
   "source": [
    "y_predicted = svm.predict(testX)\n",
    "y_actual=testY"
   ]
  },
  {
   "cell_type": "code",
   "execution_count": 31,
   "id": "5bec8ece",
   "metadata": {
    "execution": {
     "iopub.execute_input": "2023-06-25T03:37:46.583465Z",
     "iopub.status.busy": "2023-06-25T03:37:46.583067Z",
     "iopub.status.idle": "2023-06-25T03:37:46.594951Z",
     "shell.execute_reply": "2023-06-25T03:37:46.594018Z"
    },
    "papermill": {
     "duration": 0.037154,
     "end_time": "2023-06-25T03:37:46.597142",
     "exception": false,
     "start_time": "2023-06-25T03:37:46.559988",
     "status": "completed"
    },
    "tags": []
   },
   "outputs": [
    {
     "data": {
      "text/plain": [
       "array([[323,  13,   1],\n",
       "       [ 29,  30,   5],\n",
       "       [  3,   4,  18]])"
      ]
     },
     "execution_count": 31,
     "metadata": {},
     "output_type": "execute_result"
    }
   ],
   "source": [
    "confusion_matrix(testY,y_predicted)"
   ]
  },
  {
   "cell_type": "markdown",
   "id": "3616b077",
   "metadata": {
    "papermill": {
     "duration": 0.021492,
     "end_time": "2023-06-25T03:37:46.640496",
     "exception": false,
     "start_time": "2023-06-25T03:37:46.619004",
     "status": "completed"
    },
    "tags": []
   },
   "source": [
    "Calculating precision, recall, specificity, and f1-score."
   ]
  },
  {
   "cell_type": "code",
   "execution_count": 32,
   "id": "adaeaa08",
   "metadata": {
    "execution": {
     "iopub.execute_input": "2023-06-25T03:37:46.686125Z",
     "iopub.status.busy": "2023-06-25T03:37:46.685743Z",
     "iopub.status.idle": "2023-06-25T03:37:46.694476Z",
     "shell.execute_reply": "2023-06-25T03:37:46.693284Z"
    },
    "papermill": {
     "duration": 0.034644,
     "end_time": "2023-06-25T03:37:46.697107",
     "exception": false,
     "start_time": "2023-06-25T03:37:46.662463",
     "status": "completed"
    },
    "tags": []
   },
   "outputs": [
    {
     "data": {
      "text/plain": [
       "(0.8779342723004695, 0.8779342723004695, 0.935, 0.8779342723004695)"
      ]
     },
     "execution_count": 32,
     "metadata": {},
     "output_type": "execute_result"
    }
   ],
   "source": [
    "rf_tp = 374\n",
    "rf_fp = 52\n",
    "rf_fn = 52\n",
    "rf_tn = 748\n",
    "\n",
    "rf_precision = rf_tp/(rf_tp+rf_fp)\n",
    "rf_recall = rf_tp/(rf_tp+rf_fn)\n",
    "rf_specificity = rf_tn/(rf_fp+rf_tn)\n",
    "rf_f1= 2* (rf_precision*rf_recall)/(rf_precision+rf_recall)\n",
    "rf_precision, rf_recall, rf_specificity, rf_f1"
   ]
  },
  {
   "cell_type": "code",
   "execution_count": 33,
   "id": "e7a096cc",
   "metadata": {
    "execution": {
     "iopub.execute_input": "2023-06-25T03:37:46.743690Z",
     "iopub.status.busy": "2023-06-25T03:37:46.743282Z",
     "iopub.status.idle": "2023-06-25T03:37:46.996522Z",
     "shell.execute_reply": "2023-06-25T03:37:46.995169Z"
    },
    "papermill": {
     "duration": 0.279195,
     "end_time": "2023-06-25T03:37:46.998931",
     "exception": false,
     "start_time": "2023-06-25T03:37:46.719736",
     "status": "completed"
    },
    "tags": []
   },
   "outputs": [
    {
     "data": {
      "image/png": "[encoded data removed]",
      "text/plain": [
       "<Figure size 640x480 with 1 Axes>"
      ]
     },
     "metadata": {},
     "output_type": "display_data"
    },
    {
     "name": "stdout",
     "output_type": "stream",
     "text": [
      "rf_Precision: 87.79342723004694%\n",
      "rf_Recall: 87.79342723004694%\n",
      "rf_Specificity: 93.5%\n",
      "rf_F1-score: 87.79342723004694%\n"
     ]
    }
   ],
   "source": [
    "scores_label = [ 'rf_Precision', 'rf_Recall', 'rf_Specificity', 'rf_F1-score']\n",
    "scores_values = [rf_precision, rf_recall, rf_specificity , rf_f1]\n",
    "\n",
    "plt.bar(scores_label, scores_values)\n",
    "plt.ylim([0, 1])\n",
    "plt.ylabel('Score')\n",
    "plt.title('RF Performance Metrics')\n",
    "\n",
    "# Show the plot\n",
    "plt.show()\n",
    "i=0\n",
    "for x in scores_label:\n",
    "    print(f'{x}: {scores_values[i] *100}%')\n",
    "    i+=1"
   ]
  },
  {
   "cell_type": "code",
   "execution_count": 34,
   "id": "af16fc02",
   "metadata": {
    "execution": {
     "iopub.execute_input": "2023-06-25T03:37:47.047056Z",
     "iopub.status.busy": "2023-06-25T03:37:47.046268Z",
     "iopub.status.idle": "2023-06-25T03:37:47.308253Z",
     "shell.execute_reply": "2023-06-25T03:37:47.306937Z"
    },
    "papermill": {
     "duration": 0.288935,
     "end_time": "2023-06-25T03:37:47.310896",
     "exception": false,
     "start_time": "2023-06-25T03:37:47.021961",
     "status": "completed"
    },
    "tags": []
   },
   "outputs": [
    {
     "data": {
      "image/png": "[encoded data removed]",
      "text/plain": [
       "<Figure size 640x480 with 1 Axes>"
      ]
     },
     "metadata": {},
     "output_type": "display_data"
    },
    {
     "name": "stdout",
     "output_type": "stream",
     "text": [
      "DT: 93.1924882629108%\n",
      "NB: 82.3943661971831%\n",
      "RLR: 85.2112676056338%\n",
      "SVM: 87.79342723004694%\n",
      "RF: 87.79342723004694%\n"
     ]
    }
   ],
   "source": [
    "models_label = ['DT', 'NB', 'RLR', 'SVM', 'RF']\n",
    "scores_values = [dt_recall, nb_recall, rlr_recall,svm_recall, rf_recall]\n",
    "\n",
    "plt.bar(models_label, scores_values)\n",
    "plt.ylim([0, 1])\n",
    "plt.ylabel('Performance Score')\n",
    "plt.title('Recall')\n",
    "\n",
    "# Show the plot\n",
    "plt.show()\n",
    "i=0\n",
    "for x in models_label:\n",
    "    print(f'{x}: {scores_values[i] *100}%')\n",
    "    i+=1"
   ]
  },
  {
   "cell_type": "code",
   "execution_count": 35,
   "id": "085dfa3b",
   "metadata": {
    "execution": {
     "iopub.execute_input": "2023-06-25T03:37:47.363085Z",
     "iopub.status.busy": "2023-06-25T03:37:47.362654Z",
     "iopub.status.idle": "2023-06-25T03:37:47.629169Z",
     "shell.execute_reply": "2023-06-25T03:37:47.627599Z"
    },
    "papermill": {
     "duration": 0.296469,
     "end_time": "2023-06-25T03:37:47.631675",
     "exception": false,
     "start_time": "2023-06-25T03:37:47.335206",
     "status": "completed"
    },
    "tags": []
   },
   "outputs": [
    {
     "data": {
      "image/png": "[encoded data removed]",
      "text/plain": [
       "<Figure size 640x480 with 1 Axes>"
      ]
     },
     "metadata": {},
     "output_type": "display_data"
    },
    {
     "name": "stdout",
     "output_type": "stream",
     "text": [
      "DT: 93.1924882629108%\n",
      "NB: 82.3943661971831%\n",
      "RLR: 85.2112676056338%\n",
      "SVM: 87.79342723004694%\n",
      "RF: 87.79342723004694%\n"
     ]
    }
   ],
   "source": [
    "models_label = ['DT', 'NB', 'RLR', 'SVM', 'RF']\n",
    "scores_values = [dt_precision, nb_precision, rlr_precision,svm_precision, rf_precision]\n",
    "\n",
    "plt.bar(models_label, scores_values)\n",
    "plt.ylim([0, 1])\n",
    "plt.ylabel('Performance Score')\n",
    "plt.title('Precision')\n",
    "\n",
    "# Show the plot\n",
    "plt.show()\n",
    "i=0\n",
    "for x in models_label:\n",
    "    print(f'{x}: {scores_values[i] *100}%')\n",
    "    i+=1"
   ]
  },
  {
   "cell_type": "code",
   "execution_count": 36,
   "id": "ceb41ae5",
   "metadata": {
    "execution": {
     "iopub.execute_input": "2023-06-25T03:37:47.680654Z",
     "iopub.status.busy": "2023-06-25T03:37:47.680195Z",
     "iopub.status.idle": "2023-06-25T03:37:47.938210Z",
     "shell.execute_reply": "2023-06-25T03:37:47.936882Z"
    },
    "papermill": {
     "duration": 0.285431,
     "end_time": "2023-06-25T03:37:47.940706",
     "exception": false,
     "start_time": "2023-06-25T03:37:47.655275",
     "status": "completed"
    },
    "tags": []
   },
   "outputs": [
    {
     "data": {
      "image/png": "[encoded data removed]",
      "text/plain": [
       "<Figure size 640x480 with 1 Axes>"
      ]
     },
     "metadata": {},
     "output_type": "display_data"
    },
    {
     "name": "stdout",
     "output_type": "stream",
     "text": [
      "DT: 93.1924882629108%\n",
      "NB: 82.3943661971831%\n",
      "RLR: 85.2112676056338%\n",
      "SVM: 87.79342723004694%\n",
      "RF: 87.79342723004694%\n"
     ]
    }
   ],
   "source": [
    "models_label = ['DT', 'NB', 'RLR', 'SVM', 'RF']\n",
    "scores_values = [dt_f1, nb_f1, rlr_f1,svm_f1, rf_f1]\n",
    "plt.bar(models_label, scores_values)\n",
    "plt.ylim([0, 1])\n",
    "plt.ylabel('Performance Score')\n",
    "plt.title('f1')\n",
    "# Show the plot\n",
    "plt.show()\n",
    "i=0\n",
    "for x in models_label:\n",
    "    print(f'{x}: {scores_values[i] *100}%')\n",
    "    i+=1"
   ]
  },
  {
   "cell_type": "code",
   "execution_count": 37,
   "id": "f7e7fcdf",
   "metadata": {
    "execution": {
     "iopub.execute_input": "2023-06-25T03:37:47.990198Z",
     "iopub.status.busy": "2023-06-25T03:37:47.989808Z",
     "iopub.status.idle": "2023-06-25T03:37:48.251786Z",
     "shell.execute_reply": "2023-06-25T03:37:48.250662Z"
    },
    "papermill": {
     "duration": 0.290463,
     "end_time": "2023-06-25T03:37:48.255083",
     "exception": false,
     "start_time": "2023-06-25T03:37:47.964620",
     "status": "completed"
    },
    "tags": []
   },
   "outputs": [
    {
     "data": {
      "image/png": "[encoded data removed]",
      "text/plain": [
       "<Figure size 640x480 with 1 Axes>"
      ]
     },
     "metadata": {},
     "output_type": "display_data"
    },
    {
     "name": "stdout",
     "output_type": "stream",
     "text": [
      "DT: 96.47630619684082%\n",
      "NB: 90.34749034749035%\n",
      "RLR: 92.01520912547528%\n",
      "SVM: 93.5%\n",
      "RF: 93.5%\n"
     ]
    }
   ],
   "source": [
    "models_label = ['DT', 'NB', 'RLR', 'SVM', 'RF']\n",
    "scores_values = [dt_specificity, nb_specificity, rlr_specificity,svm_specificity, rf_specificity]\n",
    "plt.bar(models_label, scores_values)\n",
    "plt.ylim([0, 1])\n",
    "plt.ylabel('Performance Score')\n",
    "plt.title('specificity')\n",
    "# Show the plot\n",
    "plt.show()\n",
    "i=0\n",
    "for x in models_label:\n",
    "    print(f'{x}: {scores_values[i] *100}%')\n",
    "    i+=1"
   ]
  }
 ],
 "metadata": {
  "kernelspec": {
   "display_name": "Python 3",
   "language": "python",
   "name": "python3"
  },
  "language_info": {
   "codemirror_mode": {
    "name": "ipython",
    "version": 3
   },
   "file_extension": ".py",
   "mimetype": "text/x-python",
   "name": "python",
   "nbconvert_exporter": "python",
   "pygments_lexer": "ipython3",
   "version": "3.10.10"
  },
  "papermill": {
   "default_parameters": {},
   "duration": 25.749151,
   "end_time": "2023-06-25T03:37:49.304848",
   "environment_variables": {},
   "exception": null,
   "input_path": "__notebook__.ipynb",
   "output_path": "__notebook__.ipynb",
   "parameters": {},
   "start_time": "2023-06-25T03:37:23.555697",
   "version": "2.4.0"
  }
 },
 "nbformat": 4,
 "nbformat_minor": 5
}
